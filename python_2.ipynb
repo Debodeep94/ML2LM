{
 "cells": [
  {
   "cell_type": "markdown",
   "metadata": {
    "id": "K3eKsZ91pbfN"
   },
   "source": [
    "# Python Tutorial: Data Types, Data Structures and Object-Oriented Programming"
   ]
  },
  {
   "cell_type": "markdown",
   "metadata": {
    "id": "NzFs44eGprXP"
   },
   "source": [
    "## 1. Data types\n",
    "\n",
    "### What Are Data Types? <br>\n",
    "Data types define the kind of value a variable can hold in a programming language. In Python, every piece of data (like numbers, text or a collection of items) has a specific data type that tells Python how to process and store that data. <br>\n",
    "\n",
    "Some examples: <br>\n",
    "Text like \"Python\" is a `str` (string).<br>\n",
    "An integer like 7 is an `int` datatype while a decimal like 7.7 is a `float`. <br>\n",
    "A value like `True` or `False` is a `bool` (boolean).<br>\n",
    "<br>\n",
    "\n",
    "#### Dynamic Typing in Python\n",
    "One of Python's strengths is dynamic typing, which means you don’t need to declare the type of a variable explicitly like java or C++. Python automatically determines the type of a variable based on the value you assign to it.<br>\n",
    "<br>\n",
    "We can use the `type()` function to check the data type of a variable.\n",
    "\n"
   ]
  },
  {
   "cell_type": "code",
   "execution_count": null,
   "metadata": {
    "colab": {
     "base_uri": "https://localhost:8080/"
    },
    "id": "llX0qdvhpyKI",
    "outputId": "e39bb9a5-eadd-45c7-ff31-c85bef58e7b1"
   },
   "outputs": [
    {
     "data": {
      "text/plain": [
       "str"
      ]
     },
     "execution_count": 1,
     "metadata": {},
     "output_type": "execute_result"
    }
   ],
   "source": [
    "# string\n",
    "x = \"python\"\n",
    "\n",
    "# here Python knows the variable 'x' is a string represented as str\n",
    "\n",
    "type(x)"
   ]
  },
  {
   "cell_type": "code",
   "execution_count": null,
   "metadata": {
    "colab": {
     "base_uri": "https://localhost:8080/"
    },
    "id": "IStQZbNNqPIV",
    "outputId": "6346f219-8aba-4fec-afa2-9441b9777e95"
   },
   "outputs": [
    {
     "data": {
      "text/plain": [
       "int"
      ]
     },
     "execution_count": 2,
     "metadata": {},
     "output_type": "execute_result"
    }
   ],
   "source": [
    "# integer is represnted as 'int'\n",
    "\n",
    "x = 2\n",
    "\n",
    "type(x)"
   ]
  },
  {
   "cell_type": "code",
   "execution_count": null,
   "metadata": {
    "colab": {
     "base_uri": "https://localhost:8080/"
    },
    "id": "n-mZdRP9qa_g",
    "outputId": "9596c3fd-e518-43dd-af41-4a8baad5291d"
   },
   "outputs": [
    {
     "data": {
      "text/plain": [
       "float"
      ]
     },
     "execution_count": 3,
     "metadata": {},
     "output_type": "execute_result"
    }
   ],
   "source": [
    "# float is a decimal number, represnted as 'float'\n",
    "\n",
    "x = 2.0\n",
    "\n",
    "type(x)"
   ]
  },
  {
   "cell_type": "code",
   "execution_count": null,
   "metadata": {
    "colab": {
     "base_uri": "https://localhost:8080/"
    },
    "id": "HVaOC6VpOM_N",
    "outputId": "daee5ee5-45ed-408b-e031-169fb58657e3"
   },
   "outputs": [
    {
     "data": {
      "text/plain": [
       "bool"
      ]
     },
     "execution_count": 4,
     "metadata": {},
     "output_type": "execute_result"
    }
   ],
   "source": [
    "# bool is a binary variable that either takes True or False\n",
    "\n",
    "x = True\n",
    "\n",
    "type(x)"
   ]
  },
  {
   "cell_type": "markdown",
   "metadata": {
    "id": "GbdIIF8gO0Di"
   },
   "source": [
    "### Type Conversion\n",
    "Python provides two ways to perform type conversion: implicit type conversion and explicit type conversion (also known as casting). <br>\n",
    "*Implicit Type Conversion* : <br> When you perform operations involving different data types, Python automatically converts smaller or simpler types to more complex or compatible ones to avoid data loss without requiring explicit instructions from the programmer. This is also known as type coercion.<br>\n",
    "*Explicit Type Conversion* : <br> Explicit type conversion, or casting, involves manually converting one data type into another using Python's built-in functions. This gives the programmer more control but also requires caution to avoid data loss or errors.<br>\n",
    "Common Casting Functions<br>\n",
    "`int()`: Converts a value to an integer.<br>\n",
    "`float()`: Converts a value to a float.<br>\n",
    "`str()`: Converts a value to a string.<br>"
   ]
  },
  {
   "cell_type": "code",
   "execution_count": null,
   "metadata": {
    "colab": {
     "base_uri": "https://localhost:8080/"
    },
    "id": "c7G0cXSHPJcl",
    "outputId": "9f645ca6-5c78-4ca2-8ecd-a80ff2e75356"
   },
   "outputs": [
    {
     "name": "stdout",
     "output_type": "stream",
     "text": [
      "7.7\n",
      "<class 'float'>\n"
     ]
    }
   ],
   "source": [
    "# Integer and float addition\n",
    "num_int = 5      # Integer\n",
    "num_float = 2.7   # Float\n",
    "\n",
    "result = num_int + num_float  # Implicit conversion\n",
    "print(result)\n",
    "print(type(result))"
   ]
  },
  {
   "cell_type": "code",
   "execution_count": null,
   "metadata": {
    "colab": {
     "base_uri": "https://localhost:8080/"
    },
    "id": "fA5IGTYMQn9A",
    "outputId": "599bc8c6-57ac-4c10-de1c-e612d5fd5b48"
   },
   "outputs": [
    {
     "name": "stdout",
     "output_type": "stream",
     "text": [
      "2\n"
     ]
    }
   ],
   "source": [
    "num_int = int(num_float)  # Explicit conversion\n",
    "print(num_int)"
   ]
  },
  {
   "cell_type": "markdown",
   "metadata": {
    "id": "yEtQKo9gQ-Si"
   },
   "source": [
    "Note that the explicit conversion in the last example just truncated the float 2.7 to 2, not rounded it, which can lead to potential data loss."
   ]
  },
  {
   "cell_type": "code",
   "execution_count": null,
   "metadata": {
    "colab": {
     "base_uri": "https://localhost:8080/"
    },
    "id": "o2kTRe-GRcvT",
    "outputId": "7e8a84e6-62a9-4b8b-d8d9-8deb10596b43"
   },
   "outputs": [
    {
     "name": "stdout",
     "output_type": "stream",
     "text": [
      "34\n",
      "7\n"
     ]
    }
   ],
   "source": [
    "print('3'+'4')\n",
    "print(int('3')+int('4'))"
   ]
  },
  {
   "cell_type": "markdown",
   "metadata": {
    "id": "46z_imOIRnRJ"
   },
   "source": [
    "Note that in the last cell, when 2 strings are added in python, they are simply concatenated while on explicitly converting them to int, we get the desired result. <br>\n",
    "Explicit conversions are often needed when working with JSON data, to process strings, numbers and booleans.<br>\n",
    "E.g. `{\"age\": \"30\", \"is_member\": \"true\"}`"
   ]
  },
  {
   "cell_type": "markdown",
   "metadata": {
    "id": "IrsCwU942JRF"
   },
   "source": [
    "---\n",
    "\n",
    "# 2. Operators\n",
    "\n",
    "#### Arithmatic Operators\n",
    "\n",
    "| Operator | Description        | Example  | Result |\n",
    "|----------|--------------------|----------|--------|\n",
    "| `+`      | Addition           | `5 + 3`  | `8`    |\n",
    "| `-`      | Subtraction        | `10 - 4` | `6`    |\n",
    "| `*`      | Multiplication     | `2 * 6`  | `12`   |\n",
    "| `/`      | Division           | `15 / 3` | `5.0`  |\n",
    "| `//`     | Floor Division     | `15 // 4`| `3`    |\n",
    "| `%`      | Modulus (Remainder)| `15 % 4` | `3`    |\n",
    "| `**`     | Exponentiation     | `2 ** 3` | `8`    |\n",
    "\n",
    "<br>\n",
    "\n",
    "#### Relational Operators\n",
    "\n",
    "| Operator | Description               | Example     | Result  |\n",
    "|----------|---------------------------|-------------|---------|\n",
    "| `==`     | Equal to                  | `5 == 5`    | `True`  |\n",
    "| `!=`     | Not equal to              | `5 != 3`    | `True`  |\n",
    "| `>`      | Greater than              | `7 > 3`     | `True`  |\n",
    "| `<`      | Less than                 | `2 < 8`     | `True`  |\n",
    "| `>=`     | Greater than or equal to  | `5 >= 5`    | `True`  |\n",
    "| `<=`     | Less than or equal to     | `4 <= 6`    | `True`  |\n",
    "\n",
    "<br>\n",
    "\n",
    "#### Logical Operators\n",
    "\n",
    "| Operator | Description                        | Example        | Result  |\n",
    "|----------|------------------------------------|----------------|---------|\n",
    "| `and`    | Logical AND (True if both are True)| `True and False`| `False` |\n",
    "| `or`     | Logical OR (True if at least one is True)| `True or False` | `True`  |\n",
    "| `not`    | Logical NOT (Inverts the truth value)| `not True`     | `False` |\n",
    "\n",
    "<br>\n",
    "\n",
    "#### Assignment Operators\n",
    "\n",
    "| Operator | Description              | Example      | Result         |\n",
    "|----------|--------------------------|--------------|----------------|\n",
    "| `=`      | Assign                  | `x = 5`      | `x = 5`        |\n",
    "| `+=`     | Add and assign          | `x += 3`     | `x = x + 3`    |\n",
    "| `-=`     | Subtract and assign     | `x -= 2`     | `x = x - 2`    |\n",
    "| `*=`     | Multiply and assign     | `x *= 4`     | `x = x * 4`    |\n",
    "| `/=`     | Divide and assign       | `x /= 5`     | `x = x / 5`    |\n",
    "| `//=`    | Floor divide and assign | `x //= 3`    | `x = x // 3`   |\n",
    "| `%=`     | Modulus and assign      | `x %= 2`     | `x = x % 2`    |\n",
    "| `**=`    | Exponentiate and assign | `x **= 3`    | `x = x ** 3`   |\n",
    "\n",
    "<br>\n",
    "\n",
    "#### Membership Operators\n",
    "\n",
    "| Operator   | Description                  | Example            | Result  |\n",
    "|------------|------------------------------|--------------------|---------|\n",
    "| `in`       | Checks if an element is present | `'a' in 'apple'`   | `True`  |\n",
    "| `not in`   | Checks if an element is absent  | `'z' not in 'apple'` | `True`  |\n",
    "\n",
    "\n",
    "<br>\n",
    "\n",
    "#### Identity Operators\n",
    "\n",
    "| Operator   | Description                        | Example       | Result            |\n",
    "|------------|------------------------------------|---------------|-------------------|\n",
    "| `is`       | True if objects are the same       | `x is y`      | `True` or `False` |\n",
    "| `is not`   | True if objects are not the same   | `x is not y`  | `True` or `False` |\n"
   ]
  },
  {
   "cell_type": "markdown",
   "metadata": {
    "id": "aHNhzadnqIOK"
   },
   "source": []
  },
  {
   "cell_type": "markdown",
   "metadata": {
    "id": "Kr9dwmgupBx4"
   },
   "source": [
    "\n",
    "\n",
    "---\n",
    "\n",
    "## 3. Data Structures\n",
    "\n",
    "Data structures are ways to organize and store data so that they can be accessed and worked with efficiently. Python offers several built-in data structures such as lists, tuples, sets and dictionaries. Each of these has unique properties and use cases. Let's cover them one by one.\n",
    "\n",
    "**List:**\n",
    "A list in Python is a data structure that allows you to store an ordered collection of items. These items can be of any data type (e.g., integers, strings, floats, or even other lists). <br>\n",
    "\n",
    "Key Features:<br>\n",
    "*Ordered*: Elements in a list maintain the order in which they are added.<br>\n",
    "*Mutable*: Lists can be modified after creation — elements can be added, removed or changed.<br>\n",
    "*Dynamic Size*: Python lists can grow or shrink dynamically without a fixed size limit.<br>\n",
    "*Heterogeneous*: A single list can store elements of different types.<br>\n"
   ]
  },
  {
   "cell_type": "code",
   "execution_count": null,
   "metadata": {
    "colab": {
     "base_uri": "https://localhost:8080/"
    },
    "id": "kDq4A90fowVq",
    "outputId": "eb78d9f1-5ea3-4aa6-813c-620775eec3b7"
   },
   "outputs": [
    {
     "name": "stdout",
     "output_type": "stream",
     "text": [
      "['india', 'nepal', 'italy', 'china', 'russia']\n"
     ]
    }
   ],
   "source": [
    "# Creating Lists: let 'countries' be a list\n",
    "countries = ['india', 'nepal', 'italy', 'china', 'russia']\n",
    "print(countries)"
   ]
  },
  {
   "cell_type": "code",
   "execution_count": null,
   "metadata": {
    "colab": {
     "base_uri": "https://localhost:8080/"
    },
    "id": "mrimoQFeAIjP",
    "outputId": "96cf9a7f-2e5c-4d60-f059-ac43ebe2d6c1"
   },
   "outputs": [
    {
     "name": "stdout",
     "output_type": "stream",
     "text": [
      "['new delhi', 'kathmandu', 'rome', 'beijing', 'moscow']\n"
     ]
    }
   ],
   "source": [
    "# Creating using the list() Constructor\n",
    "capitals = list(('new delhi', 'kathmandu', 'rome', 'beijing', 'moscow'))\n",
    "print(capitals)"
   ]
  },
  {
   "cell_type": "code",
   "execution_count": null,
   "metadata": {
    "colab": {
     "base_uri": "https://localhost:8080/"
    },
    "id": "wqt_mc7gAKkg",
    "outputId": "91dd9579-8b5a-4583-eb20-236585deafaa"
   },
   "outputs": [
    {
     "name": "stdout",
     "output_type": "stream",
     "text": [
      "['i', 'n', 'd', 'i', 'a']\n"
     ]
    }
   ],
   "source": [
    "characters = list('india')\n",
    "print(characters)"
   ]
  },
  {
   "cell_type": "code",
   "execution_count": null,
   "metadata": {
    "colab": {
     "base_uri": "https://localhost:8080/"
    },
    "id": "ftl5uRhoAL_p",
    "outputId": "81b253dd-c3aa-4569-81db-8e22f0d447eb"
   },
   "outputs": [
    {
     "name": "stdout",
     "output_type": "stream",
     "text": [
      "india\n",
      "russia\n",
      "['nepal', 'italy']\n",
      "['india', 'nepal', 'italy']\n",
      "['nepal', 'italy', 'china', 'russia']\n"
     ]
    }
   ],
   "source": [
    "# Accessing elements\n",
    "print(countries[0]) # by index\n",
    "print(countries[-1]) # by negative index\n",
    "print(countries[1:3]) # by slicing\n",
    "print(countries[:3]) # by slicing\n",
    "print(countries[1:]) # by slicing"
   ]
  },
  {
   "cell_type": "code",
   "execution_count": null,
   "metadata": {
    "colab": {
     "base_uri": "https://localhost:8080/"
    },
    "id": "EvqCDh_eANBg",
    "outputId": "fd8a7971-7b32-45e1-bfbb-9250f5eb06ce"
   },
   "outputs": [
    {
     "name": "stdout",
     "output_type": "stream",
     "text": [
      "india\n",
      "nepal\n",
      "italy\n",
      "china\n",
      "russia\n"
     ]
    }
   ],
   "source": [
    "# Using Loops to Access Elements (to be revisited after for loops)\n",
    "# for loop\n",
    "for country in countries:\n",
    "  print(country)\n"
   ]
  },
  {
   "cell_type": "code",
   "execution_count": null,
   "metadata": {
    "colab": {
     "base_uri": "https://localhost:8080/"
    },
    "id": "qfD-Nt-h4Fw_",
    "outputId": "27bbfeb7-7c03-4ff5-9339-1e1602902c5d"
   },
   "outputs": [
    {
     "name": "stdout",
     "output_type": "stream",
     "text": [
      "0 india\n",
      "1 nepal\n",
      "2 italy\n",
      "3 china\n",
      "4 russia\n"
     ]
    }
   ],
   "source": [
    "\n",
    "# enumerate\n",
    "for index, country in enumerate(countries):\n",
    "  print(index, country)\n"
   ]
  },
  {
   "cell_type": "code",
   "execution_count": null,
   "metadata": {
    "colab": {
     "base_uri": "https://localhost:8080/"
    },
    "id": "BU7xkOqT4Gyu",
    "outputId": "3b4a3cec-6366-4d74-a6b3-657493c40e37"
   },
   "outputs": [
    {
     "name": "stdout",
     "output_type": "stream",
     "text": [
      "['india', 'italy']\n"
     ]
    }
   ],
   "source": [
    "\n",
    "# list comprehension\n",
    "i_countries = [country for country in countries if country[0] == 'i'] # list of countries that begin with a\n",
    "print(i_countries)\n"
   ]
  },
  {
   "cell_type": "code",
   "execution_count": null,
   "metadata": {
    "colab": {
     "base_uri": "https://localhost:8080/"
    },
    "id": "WCMHKMuN4HXg",
    "outputId": "3542b247-22de-4501-b444-c645bb1ec27d"
   },
   "outputs": [
    {
     "name": "stdout",
     "output_type": "stream",
     "text": [
      "[('india', 'new delhi'), ('italy', 'rome')]\n"
     ]
    }
   ],
   "source": [
    "\n",
    "# zip\n",
    "i_countries = [(country, capital) for country, capital in zip(countries, capitals) if country[0] == 'i']\n",
    "print(i_countries)"
   ]
  },
  {
   "cell_type": "code",
   "execution_count": null,
   "metadata": {
    "colab": {
     "base_uri": "https://localhost:8080/"
    },
    "id": "KqD1Y3VyAOq4",
    "outputId": "2f46b9e4-2843-4718-c76c-c9dc7210501c"
   },
   "outputs": [
    {
     "name": "stdout",
     "output_type": "stream",
     "text": [
      "[['india', 'nepal', 'italy', 'china', 'russia'], ['new delhi', 'kathmandu', 'rome', 'beijing', 'moscow']]\n",
      "rome\n"
     ]
    }
   ],
   "source": [
    "# Nested Lists\n",
    "nested_list = [countries, capitals]\n",
    "print(nested_list)\n",
    "print(nested_list[1][2])"
   ]
  },
  {
   "cell_type": "code",
   "execution_count": null,
   "metadata": {
    "colab": {
     "base_uri": "https://localhost:8080/"
    },
    "id": "0b1wLUgeAPaz",
    "outputId": "ea2d5d45-829e-4d3d-b2d0-83a9ffd64b0c"
   },
   "outputs": [
    {
     "name": "stdout",
     "output_type": "stream",
     "text": [
      "['india', 'nepal', 'italy', 'china', 'russia', 'usa']\n"
     ]
    }
   ],
   "source": [
    "# Appending a new object to the list\n",
    "countries.append('usa')\n",
    "print(countries)"
   ]
  },
  {
   "cell_type": "code",
   "execution_count": null,
   "metadata": {
    "colab": {
     "base_uri": "https://localhost:8080/"
    },
    "id": "rEL3MenZAQFI",
    "outputId": "328aec72-58ec-429c-bd78-0ca4b014b296"
   },
   "outputs": [
    {
     "name": "stdout",
     "output_type": "stream",
     "text": [
      "['india', 'nepal', 'italy', 'china', 'russia', 'usa', 'brazil', 'australia']\n"
     ]
    }
   ],
   "source": [
    "# Extending iterables\n",
    "countries.extend(['brazil', 'australia'])\n",
    "print(countries)"
   ]
  },
  {
   "cell_type": "code",
   "execution_count": null,
   "metadata": {
    "colab": {
     "base_uri": "https://localhost:8080/"
    },
    "id": "sypR-4GIAQ2c",
    "outputId": "31dbbe72-72c9-46a9-87cb-4ffd3c2b5144"
   },
   "outputs": [
    {
     "name": "stdout",
     "output_type": "stream",
     "text": [
      "['india', 'nepal', 'italy', 'china', 'russia', 'usa', 'brazil', 'australia', 'france', 'egypt']\n"
     ]
    }
   ],
   "source": [
    "countries += ['france', 'egypt']\n",
    "print(countries)"
   ]
  },
  {
   "cell_type": "code",
   "execution_count": null,
   "metadata": {
    "colab": {
     "base_uri": "https://localhost:8080/"
    },
    "id": "YymqX6xPARmf",
    "outputId": "bb635781-80b3-4389-e650-ca7d94c5ef1e"
   },
   "outputs": [
    {
     "name": "stdout",
     "output_type": "stream",
     "text": [
      "['india', 'nepal', 'germany', 'italy', 'china', 'russia', 'usa', 'brazil', 'australia', 'france', 'egypt']\n"
     ]
    }
   ],
   "source": [
    "# Insert element at a position\n",
    "countries.insert(2, 'germany')\n",
    "print(countries)"
   ]
  },
  {
   "cell_type": "code",
   "execution_count": null,
   "metadata": {
    "colab": {
     "base_uri": "https://localhost:8080/"
    },
    "id": "SZ9ibUQLASew",
    "outputId": "a4014d2c-a5ca-48eb-f1e0-d2d25107434f"
   },
   "outputs": [
    {
     "name": "stdout",
     "output_type": "stream",
     "text": [
      "['india', 'nepal', 'germany', 'italy', 'china', 'russia', 'brazil', 'australia', 'france', 'egypt']\n"
     ]
    }
   ],
   "source": [
    "# Removing an element\n",
    "countries.remove('usa')\n",
    "print(countries)"
   ]
  },
  {
   "cell_type": "code",
   "execution_count": null,
   "metadata": {
    "colab": {
     "base_uri": "https://localhost:8080/"
    },
    "id": "eRzflEiVAy9n",
    "outputId": "417fbf72-9dcf-4991-8543-0dbcb1e54ced"
   },
   "outputs": [
    {
     "name": "stdout",
     "output_type": "stream",
     "text": [
      "nepal\n",
      "['india', 'germany', 'italy', 'china', 'russia', 'brazil', 'australia', 'france', 'egypt']\n"
     ]
    }
   ],
   "source": [
    "popped_item = countries.pop(1)  # Remove and return item at index 1\n",
    "print(popped_item)\n",
    "print(countries)"
   ]
  },
  {
   "cell_type": "code",
   "execution_count": null,
   "metadata": {
    "colab": {
     "base_uri": "https://localhost:8080/",
     "height": 193
    },
    "id": "TYEUAnFJBa6h",
    "outputId": "a1891f6f-8233-4429-ae37-ac5f7216f8e4"
   },
   "outputs": [
    {
     "name": "stdout",
     "output_type": "stream",
     "text": [
      "1\n"
     ]
    },
    {
     "ename": "ValueError",
     "evalue": "'malaysia' is not in list",
     "output_type": "error",
     "traceback": [
      "\u001b[0;31m---------------------------------------------------------------------------\u001b[0m",
      "\u001b[0;31mValueError\u001b[0m                                Traceback (most recent call last)",
      "\u001b[0;32m<ipython-input-26-fadbe512a0cb>\u001b[0m in \u001b[0;36m<cell line: 0>\u001b[0;34m()\u001b[0m\n\u001b[1;32m      1\u001b[0m \u001b[0;31m# Finding elements\u001b[0m\u001b[0;34m\u001b[0m\u001b[0;34m\u001b[0m\u001b[0m\n\u001b[1;32m      2\u001b[0m \u001b[0mprint\u001b[0m\u001b[0;34m(\u001b[0m\u001b[0mcountries\u001b[0m\u001b[0;34m.\u001b[0m\u001b[0mindex\u001b[0m\u001b[0;34m(\u001b[0m\u001b[0;34m'germany'\u001b[0m\u001b[0;34m)\u001b[0m\u001b[0;34m)\u001b[0m\u001b[0;34m\u001b[0m\u001b[0;34m\u001b[0m\u001b[0m\n\u001b[0;32m----> 3\u001b[0;31m \u001b[0mprint\u001b[0m\u001b[0;34m(\u001b[0m\u001b[0mcountries\u001b[0m\u001b[0;34m.\u001b[0m\u001b[0mindex\u001b[0m\u001b[0;34m(\u001b[0m\u001b[0;34m'malaysia'\u001b[0m\u001b[0;34m)\u001b[0m\u001b[0;34m)\u001b[0m \u001b[0;31m#since malaysia isnt in the list, ValueError\u001b[0m\u001b[0;34m\u001b[0m\u001b[0;34m\u001b[0m\u001b[0m\n\u001b[0m",
      "\u001b[0;31mValueError\u001b[0m: 'malaysia' is not in list"
     ]
    }
   ],
   "source": [
    "# Finding elements\n",
    "print(countries.index('germany'))\n",
    "print(countries.index('malaysia')) #since malaysia isnt in the list, ValueError"
   ]
  },
  {
   "cell_type": "code",
   "execution_count": null,
   "metadata": {
    "colab": {
     "base_uri": "https://localhost:8080/"
    },
    "id": "CvvRjW1qCSlZ",
    "outputId": "38d9b515-e13f-45f5-a373-9c8b44e94a5c"
   },
   "outputs": [
    {
     "name": "stdout",
     "output_type": "stream",
     "text": [
      "malaysia is not in the list\n"
     ]
    }
   ],
   "source": [
    "try:\n",
    "  print(countries.index('malaysia'))\n",
    "except ValueError:\n",
    "  print('malaysia is not in the list')"
   ]
  },
  {
   "cell_type": "code",
   "execution_count": null,
   "metadata": {
    "colab": {
     "base_uri": "https://localhost:8080/"
    },
    "id": "zBsV_oPLBqD4",
    "outputId": "e171611d-8eb4-46a6-ae90-68899ae88690"
   },
   "outputs": [
    {
     "name": "stdout",
     "output_type": "stream",
     "text": [
      "['india', 'germany', 'italy', 'china', 'russia', 'brazil', 'australia', 'france', 'egypt', 'italy']\n",
      "2\n"
     ]
    }
   ],
   "source": [
    "countries.append('italy')\n",
    "print(countries)\n",
    "print(countries.count('italy'))"
   ]
  },
  {
   "cell_type": "code",
   "execution_count": null,
   "metadata": {
    "colab": {
     "base_uri": "https://localhost:8080/"
    },
    "id": "x61HH-F1B3jn",
    "outputId": "630e168d-979f-45a8-e6eb-325445e0b936"
   },
   "outputs": [
    {
     "name": "stdout",
     "output_type": "stream",
     "text": [
      "['india', 'germany', 'china', 'russia', 'brazil', 'australia', 'france', 'egypt', 'italy']\n"
     ]
    }
   ],
   "source": [
    "countries.remove('italy')\n",
    "print(countries) # removes only first instance of 'italy'"
   ]
  },
  {
   "cell_type": "code",
   "execution_count": null,
   "metadata": {
    "colab": {
     "base_uri": "https://localhost:8080/"
    },
    "id": "3YYATlal9MDL",
    "outputId": "b2bc9ec4-7d1b-49bf-87ed-13c10f43ba1f"
   },
   "outputs": [
    {
     "name": "stdout",
     "output_type": "stream",
     "text": [
      "['australia', 'brazil', 'china', 'egypt', 'france', 'germany', 'india', 'italy', 'russia']\n"
     ]
    }
   ],
   "source": [
    "# Sorting lists\n",
    "countries.sort()\n",
    "print(countries)"
   ]
  },
  {
   "cell_type": "code",
   "execution_count": null,
   "metadata": {
    "colab": {
     "base_uri": "https://localhost:8080/"
    },
    "id": "aGktWPjNCr0I",
    "outputId": "39adf011-8030-4f62-9a25-2157bb7e7967"
   },
   "outputs": [
    {
     "name": "stdout",
     "output_type": "stream",
     "text": [
      "['russia', 'italy', 'india', 'germany', 'france', 'egypt', 'china', 'brazil', 'australia']\n"
     ]
    }
   ],
   "source": [
    "# Reversing a list\n",
    "countries.reverse()\n",
    "print(countries)"
   ]
  },
  {
   "cell_type": "code",
   "execution_count": null,
   "metadata": {
    "colab": {
     "base_uri": "https://localhost:8080/"
    },
    "id": "Fg5srddLC6TF",
    "outputId": "c3e68dcd-e4c2-4009-f1fc-438c37140fa3"
   },
   "outputs": [
    {
     "name": "stdout",
     "output_type": "stream",
     "text": [
      "['australia', 'brazil', 'china', 'egypt', 'france', 'germany', 'india', 'italy', 'russia']\n"
     ]
    }
   ],
   "source": [
    "print(countries[::-1])"
   ]
  },
  {
   "cell_type": "code",
   "execution_count": null,
   "metadata": {
    "colab": {
     "base_uri": "https://localhost:8080/"
    },
    "id": "wtheN8N0C-Su",
    "outputId": "829cce18-1074-4ea6-8de0-aa4d271153b5"
   },
   "outputs": [
    {
     "name": "stdout",
     "output_type": "stream",
     "text": [
      "['russia', 'italy', 'india', 'germany', 'france', 'egypt', 'china', 'brazil', 'australia', 'malaysia']\n",
      "['russia', 'italy', 'india', 'germany', 'france', 'egypt', 'china', 'brazil', 'australia', 'malaysia']\n"
     ]
    }
   ],
   "source": [
    "# Copying a list\n",
    "countries_copy = countries # countries_copy is a reference to countries\n",
    "countries_copy.append('malaysia')\n",
    "print(countries) # updating countries_copy also makes changes to countries\n",
    "print(countries_copy)"
   ]
  },
  {
   "cell_type": "code",
   "execution_count": null,
   "metadata": {
    "colab": {
     "base_uri": "https://localhost:8080/"
    },
    "id": "Tt4Cz4eMEkvd",
    "outputId": "f4169d0a-7ec7-4d29-9922-2fb5d2b3d65f"
   },
   "outputs": [
    {
     "name": "stdout",
     "output_type": "stream",
     "text": [
      "['russia', 'italy', 'india', 'germany', 'france', 'egypt', 'china', 'brazil', 'australia', 'malaysia']\n",
      "['russia', 'italy', 'india', 'germany', 'france', 'egypt', 'china', 'brazil', 'australia', 'malaysia', 'greece']\n"
     ]
    }
   ],
   "source": [
    "countries_copy = countries.copy()\n",
    "countries_copy.append('greece')\n",
    "print(countries)\n",
    "print(countries_copy)"
   ]
  },
  {
   "cell_type": "code",
   "execution_count": null,
   "metadata": {
    "colab": {
     "base_uri": "https://localhost:8080/"
    },
    "id": "lCAml_nHEVHY",
    "outputId": "daaef52a-4d03-4e4c-db42-78dff03e08e8"
   },
   "outputs": [
    {
     "name": "stdout",
     "output_type": "stream",
     "text": [
      "[]\n"
     ]
    }
   ],
   "source": [
    "# Clearing a list\n",
    "countries.clear()\n",
    "print(countries)"
   ]
  },
  {
   "cell_type": "markdown",
   "metadata": {
    "id": "VQMskGxqrXs9"
   },
   "source": [
    "**Tuples:**\n",
    "A tuple is a collection of ordered, immutable items. Similar to lists, tuples can store elements of any data type, including integers, strings, floats, and other tuples. However, unlike lists, tuples cannot be modified after they are created. <br>\n",
    "\n",
    "Key Features:<br>\n",
    "*Ordered*<br>\n",
    "*Immutable*: Once a tuple is created, its elements cannot be changed. This makes tuples useful in situations where you want to ensure that the data remains constant.<br>\n",
    "*Heterogeneous*<br>\n",
    "*Hashable*: Since tuples are immutable, they can be used as keys in dictionaries, unlike lists.\n"
   ]
  },
  {
   "cell_type": "code",
   "execution_count": null,
   "metadata": {
    "colab": {
     "base_uri": "https://localhost:8080/"
    },
    "id": "m9Nwjnp5Hj88",
    "outputId": "d5a1fbc2-3a81-46f1-fa5e-8fc2f9536c49"
   },
   "outputs": [
    {
     "name": "stdout",
     "output_type": "stream",
     "text": [
      "('india', 'nepal', 'italy') ('new delhi', 'kathmandu', 'rome')\n"
     ]
    }
   ],
   "source": [
    "# Creating tuples\n",
    "countries = ('india', 'nepal', 'italy')\n",
    "capitals = 'new delhi', 'kathmandu', 'rome'\n",
    "print(countries, capitals)"
   ]
  },
  {
   "cell_type": "markdown",
   "metadata": {
    "id": "EEDiIqOeIL2e"
   },
   "source": [
    "Other functions such as indexing, slicing and count are similar to lists. <br>\n",
    "Since tuples are immutable, other functions such as remove, append etc that change the value of the tuple are not supported."
   ]
  },
  {
   "cell_type": "code",
   "execution_count": null,
   "metadata": {
    "colab": {
     "base_uri": "https://localhost:8080/"
    },
    "id": "MGdNTol_IrXE",
    "outputId": "868e50b3-9168-4174-b431-710c6189b18a"
   },
   "outputs": [
    {
     "name": "stdout",
     "output_type": "stream",
     "text": [
      "('india', 'nepal', 'italy', 'new delhi', 'kathmandu', 'rome')\n",
      "('india', 'nepal', 'italy', 'india', 'nepal', 'italy', 'india', 'nepal', 'italy')\n",
      "india\n"
     ]
    }
   ],
   "source": [
    "# Concatenation\n",
    "concat_tuple = countries + capitals\n",
    "print(concat_tuple)\n",
    "\n",
    "# Repetition\n",
    "repeat_tuple = countries * 3\n",
    "print(repeat_tuple)\n",
    "\n",
    "# Tuple Unpacking\n",
    "c1, c2, c3 = countries\n",
    "print(c1)"
   ]
  },
  {
   "cell_type": "markdown",
   "metadata": {
    "id": "cWokQ2d6P1we"
   },
   "source": [
    "Notes:<br>\n",
    "1.   Tuples are ideal when you have data that should not change throughout the program, such as coordinates, fixed configurations, or records.\n",
    "2.   Functions in Python can return multiple values as tuples. This allows you to return several related pieces of data from a function.\n",
    "E.g. `return (latitude, longitude)`\n",
    "\n"
   ]
  },
  {
   "cell_type": "markdown",
   "metadata": {
    "id": "zFsQCwSNHij7"
   },
   "source": [
    "\n",
    "**Sets:**\n",
    "A set is an unordered collection of unique elements. Unlike lists or tuples, sets do not store duplicate values, and their order is not guaranteed. Sets are commonly used when you need to store distinct values and don't care about their order.<br>\n",
    "\n",
    "Key Features:<br>\n",
    "*Unordered*: Sets do not maintain the order of elements.<br>\n",
    "*Unique Elements*: A set can only contain one instance of each element.<br>\n",
    "*Mutable*: Sets are mutable, meaning you can add or remove elements after the set is created.<br>\n",
    "*No Indexing*: Since sets are unordered, they do not support indexing, slicing or other sequence-like behavior.<br>"
   ]
  },
  {
   "cell_type": "code",
   "execution_count": null,
   "metadata": {
    "colab": {
     "base_uri": "https://localhost:8080/"
    },
    "id": "XDJSrOvPLvvh",
    "outputId": "580c7ac6-807d-469c-e712-56773c0bfc0a"
   },
   "outputs": [
    {
     "name": "stdout",
     "output_type": "stream",
     "text": [
      "{'italy', 'nepal', 'india'}\n"
     ]
    }
   ],
   "source": [
    "# Creating Sets\n",
    "countries = {'india', 'nepal', 'italy', 'india'}\n",
    "print(countries)"
   ]
  },
  {
   "cell_type": "code",
   "execution_count": null,
   "metadata": {
    "colab": {
     "base_uri": "https://localhost:8080/"
    },
    "id": "Ur5Hh3_EL8sz",
    "outputId": "83cf69a3-30a4-44a0-bd72-66b0caa2d258"
   },
   "outputs": [
    {
     "name": "stdout",
     "output_type": "stream",
     "text": [
      "{'italy', 'nepal', 'india'}\n"
     ]
    }
   ],
   "source": [
    "# Using set() Constructor from a list\n",
    "countries_list = ['india', 'nepal', 'italy', 'india']\n",
    "countries = set(countries_list)\n",
    "print(countries)"
   ]
  },
  {
   "cell_type": "code",
   "execution_count": null,
   "metadata": {
    "colab": {
     "base_uri": "https://localhost:8080/"
    },
    "id": "t7DOL9AEMaAV",
    "outputId": "0546ce80-f348-4b18-9108-feabfa0627be"
   },
   "outputs": [
    {
     "name": "stdout",
     "output_type": "stream",
     "text": [
      "True\n"
     ]
    }
   ],
   "source": [
    "# Checking Membership\n",
    "print('india' in countries)"
   ]
  },
  {
   "cell_type": "code",
   "execution_count": null,
   "metadata": {
    "colab": {
     "base_uri": "https://localhost:8080/"
    },
    "id": "enzNepTIMmJY",
    "outputId": "5849f7a7-ecf9-487e-e096-7c19bbea4601"
   },
   "outputs": [
    {
     "name": "stdout",
     "output_type": "stream",
     "text": [
      "{'italy', 'nepal', 'china', 'india'}\n"
     ]
    }
   ],
   "source": [
    "# Adding elements\n",
    "countries.add('china')\n",
    "print(countries)"
   ]
  },
  {
   "cell_type": "code",
   "execution_count": null,
   "metadata": {
    "colab": {
     "base_uri": "https://localhost:8080/"
    },
    "id": "-HkzOM_MMyk_",
    "outputId": "3b0691d4-975f-4526-c2d3-989862e88d93"
   },
   "outputs": [
    {
     "name": "stdout",
     "output_type": "stream",
     "text": [
      "{'italy', 'china', 'india'}\n"
     ]
    }
   ],
   "source": [
    "# Removing Elements\n",
    "countries.remove('nepal')\n",
    "print(countries)"
   ]
  },
  {
   "cell_type": "code",
   "execution_count": null,
   "metadata": {
    "colab": {
     "base_uri": "https://localhost:8080/"
    },
    "id": "q72w5eiLM22v",
    "outputId": "a6e305da-7c1c-4832-d7c1-b2ef4a301168"
   },
   "outputs": [
    {
     "name": "stdout",
     "output_type": "stream",
     "text": [
      "{'italy', 'china', 'india'}\n"
     ]
    }
   ],
   "source": [
    "countries.discard('nepal')\n",
    "print(countries) # doesn't raise a KeyError"
   ]
  },
  {
   "cell_type": "code",
   "execution_count": null,
   "metadata": {
    "colab": {
     "base_uri": "https://localhost:8080/"
    },
    "id": "p-6fFNIHNJD-",
    "outputId": "c91730b6-34ec-4877-bbbe-0b771f306a89"
   },
   "outputs": [
    {
     "name": "stdout",
     "output_type": "stream",
     "text": [
      "3\n"
     ]
    }
   ],
   "source": [
    "# Length\n",
    "print(len(countries))"
   ]
  },
  {
   "cell_type": "code",
   "execution_count": null,
   "metadata": {
    "colab": {
     "base_uri": "https://localhost:8080/"
    },
    "id": "gKKVBHxBNPz6",
    "outputId": "9899df73-7b53-42ba-ce37-98179f37b852"
   },
   "outputs": [
    {
     "name": "stdout",
     "output_type": "stream",
     "text": [
      "Union: {1, 2, 3, 4}\n",
      "Intersection: {2}\n",
      "Difference: {1}\n",
      "Symmetric Difference: {1, 3, 4}\n"
     ]
    }
   ],
   "source": [
    "set1 = {1,2}\n",
    "set2 = {2,3,4}\n",
    "\n",
    "# Union\n",
    "print(\"Union:\", set1|set2) # same as set1.union(set2)\n",
    "\n",
    "# Intersection\n",
    "print(\"Intersection:\", set1&set2) # same as set1.intersection(set2)\n",
    "\n",
    "# Difference\n",
    "print(\"Difference:\", set1-set2) # same as set1.difference(set2)\n",
    "\n",
    "# Symmetric Difference\n",
    "print(\"Symmetric Difference:\", set1^set2) # same as set1.symmetric_difference(set2)\n"
   ]
  },
  {
   "cell_type": "code",
   "execution_count": null,
   "metadata": {
    "colab": {
     "base_uri": "https://localhost:8080/"
    },
    "id": "k2clowg7Oenh",
    "outputId": "f5ce9e0d-dbf2-4287-d9a4-92e04ea1e479"
   },
   "outputs": [
    {
     "name": "stdout",
     "output_type": "stream",
     "text": [
      "Subset: True\n",
      "Superset: True\n",
      "Disjoint: True\n"
     ]
    }
   ],
   "source": [
    "set3 = {1,2,3,4}\n",
    "set4 = {3,4}\n",
    "\n",
    "# Subset and Superset\n",
    "print(\"Subset:\", set1.issubset(set3))\n",
    "print(\"Superset:\", set3.issuperset(set1))\n",
    "\n",
    "# Disjoint set\n",
    "print(\"Disjoint:\", set1.isdisjoint(set4))"
   ]
  },
  {
   "cell_type": "code",
   "execution_count": null,
   "metadata": {
    "colab": {
     "base_uri": "https://localhost:8080/"
    },
    "id": "Lt3I57IMRUKT",
    "outputId": "59f6d9b0-9633-4c4e-e49d-a2fec20a34db"
   },
   "outputs": [
    {
     "name": "stdout",
     "output_type": "stream",
     "text": [
      "{1, 2, 3, 4, 5, 6}\n"
     ]
    }
   ],
   "source": [
    "# Update\n",
    "set1 = {1, 2, 3, 4}\n",
    "set2 = {3, 4, 5, 6}\n",
    "\n",
    "set1.update(set2)\n",
    "print(set1)"
   ]
  },
  {
   "cell_type": "code",
   "execution_count": null,
   "metadata": {
    "colab": {
     "base_uri": "https://localhost:8080/"
    },
    "id": "HMymdITjRsv0",
    "outputId": "1e33ff3d-187d-48b4-ec73-b619f01139a8"
   },
   "outputs": [
    {
     "name": "stdout",
     "output_type": "stream",
     "text": [
      "{3, 4}\n"
     ]
    }
   ],
   "source": [
    "# Intersection Update\n",
    "set1 = {1, 2, 3, 4}\n",
    "set2 = {3, 4, 5, 6}\n",
    "\n",
    "set1.intersection_update(set2)\n",
    "print(set1)"
   ]
  },
  {
   "cell_type": "code",
   "execution_count": null,
   "metadata": {
    "colab": {
     "base_uri": "https://localhost:8080/"
    },
    "id": "sgl85_w7RusD",
    "outputId": "838467a5-68d0-4958-c354-af29551d50ba"
   },
   "outputs": [
    {
     "name": "stdout",
     "output_type": "stream",
     "text": [
      "{1, 2}\n"
     ]
    }
   ],
   "source": [
    "# Difference Update\n",
    "set1 = {1, 2, 3, 4}\n",
    "set2 = {3, 4, 5, 6}\n",
    "\n",
    "set1.difference_update(set2)\n",
    "print(set1)"
   ]
  },
  {
   "cell_type": "code",
   "execution_count": null,
   "metadata": {
    "colab": {
     "base_uri": "https://localhost:8080/"
    },
    "id": "eZDXyas3Rvar",
    "outputId": "2b9443c7-7696-457a-a3c6-a8445d8fcf7f"
   },
   "outputs": [
    {
     "name": "stdout",
     "output_type": "stream",
     "text": [
      "{1, 2, 5, 6}\n"
     ]
    }
   ],
   "source": [
    "# Symmetric Difference Update\n",
    "set1 = {1, 2, 3, 4}\n",
    "set2 = {3, 4, 5, 6}\n",
    "\n",
    "set1.symmetric_difference_update(set2)\n",
    "print(set1)"
   ]
  },
  {
   "cell_type": "markdown",
   "metadata": {
    "id": "foX3LTp_O0Ge"
   },
   "source": [
    "Notes<br>\n",
    "1.   Sets are commonly used to remove duplicates from a list or other iterable.\n",
    "2.   Sets allow for fast membership tests, making them ideal for situations where you need to quickly check if an element exists in a collection."
   ]
  },
  {
   "cell_type": "markdown",
   "metadata": {
    "id": "l6FY18EcK7zV"
   },
   "source": [
    "\n",
    "**Dictionary:**\n",
    "\n",
    "A dictionary is a collection of unordered, changeable and indexed elements. It is similar to a real-world dictionary, where a word (key) is associated with a definition (value). In Python, dictionaries are defined using curly braces `{}` and consist of key-value pairs separated by a colon `:`.\n"
   ]
  },
  {
   "cell_type": "code",
   "execution_count": null,
   "metadata": {
    "colab": {
     "base_uri": "https://localhost:8080/"
    },
    "id": "RsL98BlbSjfz",
    "outputId": "c15b244d-a2a8-49cd-ac24-267978bbd7dc"
   },
   "outputs": [
    {
     "name": "stdout",
     "output_type": "stream",
     "text": [
      "{'name': 'S Bose', 'age': 30, 'city': 'Kolkata'}\n",
      "Kolkata\n",
      "Kolkata\n",
      "{'name': 'S Bose', 'age': 30, 'city': 'Kolkata', 'gender': 'male'}\n",
      "{'name': 'S Bose', 'age': 31, 'city': 'Kolkata', 'gender': 'male'}\n",
      "{'name': 'S Bose', 'city': 'Kolkata', 'gender': 'male'}\n",
      "{'name': 'S Bose', 'city': 'Kolkata'}\n"
     ]
    }
   ],
   "source": [
    "# Creating dictionaries\n",
    "person = {\n",
    "    'name': 'S Bose',\n",
    "    'age': 30,\n",
    "    'city': 'Kolkata'\n",
    "}\n",
    "\n",
    "print(person)\n",
    "\n",
    "# Accessing elements by key\n",
    "print(person['city'])\n",
    "print(person.get('city'))\n",
    "\n",
    "# Adding and Updating Key-Value Pairs\n",
    "person['gender'] = 'male'\n",
    "print(person)\n",
    "\n",
    "person['age'] = 31\n",
    "print(person)\n",
    "\n",
    "# Removing Key-Value Pairs\n",
    "del person['age']\n",
    "print(person)\n",
    "\n",
    "person.pop('gender')\n",
    "print(person)"
   ]
  },
  {
   "cell_type": "code",
   "execution_count": null,
   "metadata": {
    "colab": {
     "base_uri": "https://localhost:8080/"
    },
    "id": "ZonkEhJ6YYYM",
    "outputId": "6f2b20e6-f57c-49e0-b909-deb65ac902f8"
   },
   "outputs": [
    {
     "name": "stdout",
     "output_type": "stream",
     "text": [
      "{'S Bose': {'phone': '123-456-7890', 'email': 'sbose@example.com'}, 'N Islam': {'phone': '987-654-3210', 'email': 'nisl@example.com'}, 'RM Roy': {'phone': '555-555-5555', 'email': 'rmroy@example.com'}}\n"
     ]
    }
   ],
   "source": [
    "contacts = {\n",
    "    'S Bose': {'phone': '123-456-7890', 'email': 'sbose@example.com'},\n",
    "    'N Islam': {'phone': '987-654-3210', 'email': 'nisl@example.com'},\n",
    "    'RM Roy': {'phone': '555-555-5555', 'email': 'rmroy@example.com'}\n",
    "}\n",
    "\n",
    "print(contacts)\n"
   ]
  },
  {
   "cell_type": "code",
   "execution_count": null,
   "metadata": {
    "colab": {
     "base_uri": "https://localhost:8080/"
    },
    "id": "Qc_fVj791fuZ",
    "outputId": "77383723-a788-4276-8e85-322e222d44bf"
   },
   "outputs": [
    {
     "name": "stdout",
     "output_type": "stream",
     "text": [
      "S Bose\n",
      "N Islam\n",
      "RM Roy\n",
      "dict_keys(['S Bose', 'N Islam', 'RM Roy'])\n"
     ]
    }
   ],
   "source": [
    "\n",
    "# Iterating Through Keys, Values, and Items\n",
    "# To be revisited after for loops\n",
    "# Keys\n",
    "for key in contacts:\n",
    "    print(key)\n",
    "\n",
    "print(contacts.keys())\n"
   ]
  },
  {
   "cell_type": "code",
   "execution_count": null,
   "metadata": {
    "colab": {
     "base_uri": "https://localhost:8080/"
    },
    "id": "CzSWp4Z01gp8",
    "outputId": "2438f234-90b8-4f8e-849b-7f01c00282be"
   },
   "outputs": [
    {
     "name": "stdout",
     "output_type": "stream",
     "text": [
      "{'phone': '123-456-7890', 'email': 'sbose@example.com'}\n",
      "{'phone': '987-654-3210', 'email': 'nisl@example.com'}\n",
      "{'phone': '555-555-5555', 'email': 'rmroy@example.com'}\n"
     ]
    }
   ],
   "source": [
    "\n",
    "# Values\n",
    "for value in contacts.values():\n",
    "    print(value)\n"
   ]
  },
  {
   "cell_type": "code",
   "execution_count": null,
   "metadata": {
    "colab": {
     "base_uri": "https://localhost:8080/"
    },
    "id": "b12ERThv1h4L",
    "outputId": "b64c33dd-f4cb-4ce3-8e62-b1d0e1b05c25"
   },
   "outputs": [
    {
     "name": "stdout",
     "output_type": "stream",
     "text": [
      "Name: S Bose, Phone: 123-456-7890, Email: sbose@example.com\n",
      "Name: N Islam, Phone: 987-654-3210, Email: nisl@example.com\n",
      "Name: RM Roy, Phone: 555-555-5555, Email: rmroy@example.com\n"
     ]
    }
   ],
   "source": [
    "\n",
    "# Key-Value Pairs\n",
    "for key, value in contacts.items():\n",
    "    print(f'Name: {key}, Phone: {value[\"phone\"]}, Email: {value[\"email\"]}')\n"
   ]
  },
  {
   "cell_type": "code",
   "execution_count": null,
   "metadata": {
    "colab": {
     "base_uri": "https://localhost:8080/"
    },
    "id": "bLG8MvvM1ij4",
    "outputId": "7df5002a-03b1-47d6-d8cc-8f8a0b9b05ad"
   },
   "outputs": [
    {
     "name": "stdout",
     "output_type": "stream",
     "text": [
      "{'S Bose': {'phone': '123-456-7890', 'email': 'sbose@example.com'}, 'N Islam': {'phone': '987-654-3210', 'email': 'nisl@example.com'}, 'RM Roy': {'phone': '555-555-3333', 'email': 'rmroy@example.com'}, 'IC Chatterjee': {'phone': '777-777-7777', 'email': 'icc@example.com'}}\n"
     ]
    }
   ],
   "source": [
    "# Updating items\n",
    "contacts.update({'RM Roy': {'phone': '555-555-3333', 'email': 'rmroy@example.com'},\n",
    "                 'IC Chatterjee': {'phone': '777-777-7777', 'email':'icc@example.com'}})\n",
    "print(contacts)\n"
   ]
  },
  {
   "cell_type": "code",
   "execution_count": null,
   "metadata": {
    "colab": {
     "base_uri": "https://localhost:8080/"
    },
    "id": "b8B3LKj43IU1",
    "outputId": "a1b1e596-0e21-4790-992d-a24fdd2317ce"
   },
   "outputs": [
    {
     "name": "stdout",
     "output_type": "stream",
     "text": [
      "{'phone': '555-555-3333', 'email': 'rmroy@example.com'}\n",
      "{'S Bose': {'phone': '123-456-7890', 'email': 'sbose@example.com'}, 'N Islam': {'phone': '987-654-3210', 'email': 'nisl@example.com'}, 'IC Chatterjee': {'phone': '777-777-7777', 'email': 'icc@example.com'}}\n"
     ]
    }
   ],
   "source": [
    "# Removing keys\n",
    "contact = contacts.pop('RM Roy')\n",
    "print(contact)\n",
    "print(contacts)"
   ]
  },
  {
   "cell_type": "code",
   "execution_count": null,
   "metadata": {
    "colab": {
     "base_uri": "https://localhost:8080/"
    },
    "id": "tIFrQSFs3Jxa",
    "outputId": "210662bd-b247-4709-bde7-397282f64911"
   },
   "outputs": [
    {
     "name": "stdout",
     "output_type": "stream",
     "text": [
      "('IC Chatterjee', {'phone': '777-777-7777', 'email': 'icc@example.com'})\n",
      "{'S Bose': {'phone': '123-456-7890', 'email': 'sbose@example.com'}, 'N Islam': {'phone': '987-654-3210', 'email': 'nisl@example.com'}}\n"
     ]
    }
   ],
   "source": [
    "contact = contacts.popitem() # pops last item\n",
    "print(contact)\n",
    "print(contacts)"
   ]
  },
  {
   "cell_type": "code",
   "execution_count": null,
   "metadata": {
    "colab": {
     "base_uri": "https://localhost:8080/"
    },
    "id": "VzbeoNEW3N68",
    "outputId": "935c1302-9598-49bb-e267-7699b063b392"
   },
   "outputs": [
    {
     "name": "stdout",
     "output_type": "stream",
     "text": [
      "{1: 1, 2: 4, 3: 9, 4: 16, 5: 25}\n"
     ]
    }
   ],
   "source": [
    "# Dictionary Comprehension\n",
    "squares = {x: x**2 for x in range(1, 6)}\n",
    "print(squares)"
   ]
  },
  {
   "cell_type": "markdown",
   "metadata": {
    "id": "ICdqKVJX6Kgo"
   },
   "source": [
    "Notes<br>\n",
    "1. Dictionaries are ideal for situations where you need to map one value to another.\n",
    "2. Dictionaries are often used for counting the occurrences of items, such as in word frequency analysis or tallying votes. Example below."
   ]
  },
  {
   "cell_type": "code",
   "execution_count": null,
   "metadata": {
    "colab": {
     "base_uri": "https://localhost:8080/"
    },
    "id": "x5KjWXj06KA7",
    "outputId": "e5c2924a-c70a-4ad0-e2c5-0d241f2ecdfe"
   },
   "outputs": [
    {
     "name": "stdout",
     "output_type": "stream",
     "text": [
      "{'the': 2, 'new': 1, 'news': 3, 'anchor': 1, 'delivered': 1, 'breaking': 1, 'with': 1, 'confidence': 1}\n"
     ]
    }
   ],
   "source": [
    "text = \"the new news news anchor delivered the breaking news with confidence\"\n",
    "\n",
    "word_count = {}\n",
    "for word in text.split():\n",
    "    word_count[word] = word_count.get(word, 0) + 1\n",
    "print(word_count)"
   ]
  },
  {
   "cell_type": "markdown",
   "metadata": {
    "id": "rqRcyxT9o2bS"
   },
   "source": [
    "# 4. Control Flow\n",
    "\n",
    "**Conditional Statements:** The `if-elif-else` ladder"
   ]
  },
  {
   "cell_type": "code",
   "execution_count": null,
   "metadata": {
    "colab": {
     "base_uri": "https://localhost:8080/"
    },
    "id": "xjGsEqr19Irs",
    "outputId": "67d6efb4-158a-43f2-cf65-ff70988f4fd3"
   },
   "outputs": [
    {
     "name": "stdout",
     "output_type": "stream",
     "text": [
      "Grade: A\n"
     ]
    }
   ],
   "source": [
    "score = 85\n",
    "if score >= 80:\n",
    "    print(\"Grade: A\")\n",
    "elif score >= 60:\n",
    "    print(\"Grade: B\")\n",
    "elif score >= 40:\n",
    "    print(\"Grade: C\")\n",
    "else:\n",
    "    print(\"Grade: F\")"
   ]
  },
  {
   "cell_type": "markdown",
   "metadata": {
    "id": "zWWQoKvM9HHx"
   },
   "source": [
    "**Loops:** `for` loop and `while` loop"
   ]
  },
  {
   "cell_type": "code",
   "execution_count": null,
   "metadata": {
    "colab": {
     "base_uri": "https://localhost:8080/"
    },
    "id": "1G1-zf3xLVYZ",
    "outputId": "9d6195b7-96df-4871-dcf7-7f90fc638177"
   },
   "outputs": [
    {
     "name": "stdout",
     "output_type": "stream",
     "text": [
      "0\n",
      "1\n",
      "4\n",
      "9\n",
      "16\n"
     ]
    }
   ],
   "source": [
    "for i in range(5):\n",
    "    print(i**2)"
   ]
  },
  {
   "cell_type": "code",
   "execution_count": null,
   "metadata": {
    "colab": {
     "base_uri": "https://localhost:8080/"
    },
    "id": "Ggpf3piF9608",
    "outputId": "1290aea5-e75c-4999-80c6-f4404ac5274d"
   },
   "outputs": [
    {
     "name": "stdout",
     "output_type": "stream",
     "text": [
      "0\n",
      "1\n",
      "4\n",
      "9\n",
      "16\n"
     ]
    }
   ],
   "source": [
    "i = 0\n",
    "while(i<5):\n",
    "    print(i**2)\n",
    "    i+=1"
   ]
  },
  {
   "cell_type": "markdown",
   "metadata": {
    "id": "32c5TpjB_S3N"
   },
   "source": [
    "**Control Statements in Loops:** `break`, `continue` and `pass`."
   ]
  },
  {
   "cell_type": "code",
   "execution_count": null,
   "metadata": {
    "colab": {
     "base_uri": "https://localhost:8080/"
    },
    "id": "_jOxYkwpA4Pu",
    "outputId": "e5f91e8c-e760-401a-9f73-7588b1468ba6"
   },
   "outputs": [
    {
     "name": "stdout",
     "output_type": "stream",
     "text": [
      "Processing score: 85\n",
      "Skipping out-of-range score: 192.\n",
      "Invalid score encountered: -1. Stopping processing.\n"
     ]
    }
   ],
   "source": [
    "scores = [85, 192, -1, 76, 50, 105, 89, 48, 90]\n",
    "\n",
    "for score in scores:\n",
    "    # Stop processing if an invalid score is found\n",
    "    if score < 0:\n",
    "        print(f\"Invalid score encountered: {score}. Stopping processing.\")\n",
    "        break\n",
    "\n",
    "    # Skip scores that are out of range\n",
    "    if score > 100:\n",
    "        print(f\"Skipping out-of-range score: {score}.\")\n",
    "        continue\n",
    "\n",
    "    # Do nothing for scores exactly 50\n",
    "    if score == 50:\n",
    "        pass  # Placeholder for future logic\n",
    "        print(f\"Score is exactly 50. No action taken.\")\n",
    "        continue\n",
    "\n",
    "    # Process valid scores (between 0 and 100, excluding 50)\n",
    "    print(f\"Processing score: {score}\")\n"
   ]
  },
  {
   "cell_type": "code",
   "execution_count": null,
   "metadata": {
    "colab": {
     "base_uri": "https://localhost:8080/"
    },
    "id": "DqUbUBBE_IM6",
    "outputId": "9100c7d8-caf6-498b-d8d4-23eee3bf23bf"
   },
   "outputs": [
    {
     "name": "stdout",
     "output_type": "stream",
     "text": [
      "Q: What is 5 x 7?\n",
      "A: 35\n",
      "Correct!\n"
     ]
    }
   ],
   "source": [
    "print(\"Q: What is 5 x 7?\")\n",
    "while True:\n",
    "    answer = input(\"A: \")\n",
    "    if answer == \"35\":\n",
    "        print(\"Correct!\")\n",
    "        break\n",
    "    else:\n",
    "        print(\"Incorrect. Try again.\")"
   ]
  },
  {
   "cell_type": "markdown",
   "metadata": {
    "id": "JkUIxw-FLjwu"
   },
   "source": [
    "## 3. Functions and Object Oriented Programming\n",
    "\n",
    "- What is functions\n",
    "- OOPS\n",
    "  - class\n",
    "  - constructor\n",
    "  - class inheritance"
   ]
  },
  {
   "cell_type": "markdown",
   "metadata": {
    "id": "McyuMpoGwBcZ"
   },
   "source": [
    "### 3.1 Functions.\n",
    "\n",
    "- Fucntions: A resuable block of code designed to perform a specific task.\n",
    "  A function usually is defined in the following form -\n",
    "\n",
    "      def name_of_function(parameters):\n",
    "          body\n",
    "          return (optional)\n",
    "\n",
    "  Parameters: Parameters are values listed in the definition that act as placeholders when the function is actually called. For eg.\n",
    "\n",
    "      def addition(a,b):\n",
    "          c = a+b\n",
    "          return c\n",
    "\n",
    "  In the above example, a and b are the *parameters*\n",
    "\n",
    "  Arguments: Arguments are the values that the function actually takes.\n",
    "\n",
    "  When we call the functtion -\n",
    "\n",
    "      output = addition(1,2)\n",
    "\n",
    "  Here 1 and 2 are the arguments."
   ]
  },
  {
   "cell_type": "code",
   "execution_count": null,
   "metadata": {
    "colab": {
     "base_uri": "https://localhost:8080/"
    },
    "id": "sqF250CDLyhf",
    "outputId": "06ffd8bf-2260-4521-fabe-4d90f40cb5a2"
   },
   "outputs": [
    {
     "name": "stdout",
     "output_type": "stream",
     "text": [
      "the number 2 is even\n",
      "the number 3 is odd\n",
      "4\n",
      "27\n"
     ]
    }
   ],
   "source": [
    "# Let us define a function that determines if a number is even or odd\n",
    "\n",
    "def even_or_odd(x):\n",
    "    if x%2 == 0:\n",
    "        print(f'the number {x} is even')\n",
    "    else:\n",
    "        print(f'the number {x} is odd')\n",
    "\n",
    "even_or_odd(2)\n",
    "even_or_odd(3)\n",
    "\n",
    "# Note: The function doesn't return any value. Let's redefine the function.\n",
    "\n",
    "def even_or_odd(x):\n",
    "    if x%2 == 0:\n",
    "        return x**2\n",
    "    else:\n",
    "        return x**3\n",
    "\n",
    "print(even_or_odd(2))\n",
    "print(even_or_odd(3))\n"
   ]
  },
  {
   "cell_type": "markdown",
   "metadata": {
    "id": "a13B1F6kzO7W"
   },
   "source": [
    "### 3.2 Object Oriented Programming(OOPS).\n",
    "\n",
    "Object-Oriented Programming is a paradigm that organizes code around objects and their interactions. Objects combine data (attributes) and behavior (methods).\n",
    "\n",
    " - Key componets of OOPS:\n",
    "  - Class: In python, *Class* is the abstract data type that is used as a blueprint for creatng the objects. It is used to define the attrbites(data) and the methods (operations)\n",
    "\n",
    "  - Object: An object is defines as an instance of the class.\n",
    "\n",
    "  - Constructor: A special method used to initialize an object’s attributes."
   ]
  },
  {
   "cell_type": "code",
   "execution_count": null,
   "metadata": {
    "colab": {
     "base_uri": "https://localhost:8080/"
    },
    "id": "s9RRqcz110hj",
    "outputId": "635df227-3f4d-416c-8606-493bc71e6a32"
   },
   "outputs": [
    {
     "name": "stdout",
     "output_type": "stream",
     "text": [
      "2019 Audi A4\n"
     ]
    }
   ],
   "source": [
    "# defining a class\n",
    "\n",
    "class Car():\n",
    "  def __init__(self, make, model, year): # Constructor\n",
    "    self.make = make\n",
    "    self.model = model\n",
    "    self.year = year\n",
    "    self.odometer_reading = 0\n",
    "\n",
    "  def get_descriptive_name(self):\n",
    "    long_name = f\"{self.year} {self.make} {self.model}\"\n",
    "    return long_name.title()\n",
    "\n",
    "\n",
    "car = Car('audi', 'a4', 2019) # defining the object\n",
    "print(car.get_descriptive_name())\n",
    "\n",
    "\n"
   ]
  },
  {
   "cell_type": "markdown",
   "metadata": {
    "id": "-iPS6A6x2XMC"
   },
   "source": [
    "### 3.2.1 Encapsulation:\n",
    "\n",
    "Encapsulation is a technique in formation of python classes that restrcits the access of the class attributes (data) from anywhere. Under an encapsulated setting, the data is defined with `__` setting, for eg. `self.__variable = variable`. When an attribute is encapsulated, it is neither accessable nor modifiable from anywhere, unlike a standard `class` approach. Let's look at the following example."
   ]
  },
  {
   "cell_type": "code",
   "execution_count": null,
   "metadata": {
    "id": "Er3_RAU45XDZ"
   },
   "outputs": [],
   "source": [
    "class BankAccount:\n",
    "    def __init__(self, balance):\n",
    "        self.__balance = balance  # Private attribute\n",
    "\n",
    "    def deposit(self, amount):\n",
    "        self.__balance += amount\n",
    "\n",
    "    def get_balance(self):\n",
    "        return self.__balance"
   ]
  },
  {
   "cell_type": "markdown",
   "metadata": {
    "id": "vxfiRKmlC0gS"
   },
   "source": [
    "Here the attribute `balance` is called a `private variable`, that is, it is not accessable from outside the class. Note, in the above setting, we have defined the attribute as `self.__balance`=balance. The use of `__` makes it a private variable. Should we define the attribute as `self.balance=balance`, it becomes a public attribute and it can be accessed outside the class. Next we will try to some operations based on the class we defined above."
   ]
  },
  {
   "cell_type": "code",
   "execution_count": null,
   "metadata": {
    "colab": {
     "base_uri": "https://localhost:8080/",
     "height": 193
    },
    "id": "Wfn6xWRKD3wz",
    "outputId": "8c1f6a0a-9e15-4357-a550-0287c66c0276"
   },
   "outputs": [
    {
     "name": "stdout",
     "output_type": "stream",
     "text": [
      "account balance:150\n"
     ]
    },
    {
     "ename": "AttributeError",
     "evalue": "'BankAccount' object has no attribute '__balance'",
     "output_type": "error",
     "traceback": [
      "\u001b[0;31m---------------------------------------------------------------------------\u001b[0m",
      "\u001b[0;31mAttributeError\u001b[0m                            Traceback (most recent call last)",
      "\u001b[0;32m<ipython-input-10-ac2852b83768>\u001b[0m in \u001b[0;36m<cell line: 0>\u001b[0;34m()\u001b[0m\n\u001b[1;32m      5\u001b[0m \u001b[0;31m# Let's try to access the attribute:\u001b[0m\u001b[0;34m\u001b[0m\u001b[0;34m\u001b[0m\u001b[0m\n\u001b[1;32m      6\u001b[0m \u001b[0;34m\u001b[0m\u001b[0m\n\u001b[0;32m----> 7\u001b[0;31m \u001b[0mprint\u001b[0m\u001b[0;34m(\u001b[0m\u001b[0maccount\u001b[0m\u001b[0;34m.\u001b[0m\u001b[0m__balance\u001b[0m\u001b[0;34m)\u001b[0m\u001b[0;34m\u001b[0m\u001b[0;34m\u001b[0m\u001b[0m\n\u001b[0m",
      "\u001b[0;31mAttributeError\u001b[0m: 'BankAccount' object has no attribute '__balance'"
     ]
    }
   ],
   "source": [
    "account = BankAccount(100)\n",
    "account.deposit(50)\n",
    "print(f'account balance:{account.get_balance()}')\n",
    "\n",
    "# Let's try to access the attribute:\n",
    "\n",
    "print(account.__balance)"
   ]
  },
  {
   "cell_type": "markdown",
   "metadata": {
    "id": "VDImnT1AEoHg"
   },
   "source": [
    "Summary:\n",
    "\n",
    "| Feature        | Standard Class | Encapsulation |\n",
    "|----------------|-----------------|---------------|\n",
    "| Data Access    | Public          | Private  |\n",
    "| Modification  | Direct          | Controlled     |\n",
    "| Security      | Less            | More           |\n",
    "| Flexibility    | High            | Can be less    |"
   ]
  },
  {
   "cell_type": "markdown",
   "metadata": {
    "id": "B9coY4yZ5a6i"
   },
   "source": [
    "### 3.2.2. Inheritance:\n",
    "\n",
    "Inheritance allows us to define new classes (often called subclasses/ child classes) that *inherits* the properties of the parent class."
   ]
  },
  {
   "cell_type": "code",
   "execution_count": null,
   "metadata": {
    "colab": {
     "base_uri": "https://localhost:8080/"
    },
    "id": "sCw-uXpL5Zyb",
    "outputId": "0d01a29a-10b7-429f-e179-8c813a636658"
   },
   "outputs": [
    {
     "name": "stdout",
     "output_type": "stream",
     "text": [
      "the name of the player is CR7\n",
      "the age of the player is 35\n",
      "the position of the player is striker\n",
      "The player scored 10 goals\n"
     ]
    }
   ],
   "source": [
    "class Soccer():\n",
    "  def __init__(self, name, age, position):\n",
    "    self.name = name\n",
    "    self.age = age\n",
    "    self.position = position\n",
    "\n",
    "  def details(self):\n",
    "    print(f'the name of the player is {self.name}')\n",
    "    print(f'the age of the player is {self.age}')\n",
    "    print(f'the position of the player is {self.position}')\n",
    "\n",
    "class Player(Soccer):\n",
    "  def __init__(self, name, age, position, goals):\n",
    "    self.name = name\n",
    "    self.age = age\n",
    "    self.position = position\n",
    "    self.goals = goals\n",
    "  def records(self):\n",
    "    print(f'the name of the player is {self.name}')\n",
    "    print(f'the age of the player is {self.age}')\n",
    "    print(f'the position of the player is {self.position}')\n",
    "    print(f'The player scored {self.goals} goals')\n",
    "\n",
    "my_player = Player('CR7', '35', 'striker', '10')\n",
    "my_player.records()"
   ]
  },
  {
   "cell_type": "markdown",
   "metadata": {
    "id": "bh_FZSq-K8hT"
   },
   "source": [
    "Concept of Super:\n",
    "\n",
    "`super()` that allows us to call the methods of the parent class"
   ]
  },
  {
   "cell_type": "code",
   "execution_count": null,
   "metadata": {
    "colab": {
     "base_uri": "https://localhost:8080/"
    },
    "id": "99YmFmT8Naxi",
    "outputId": "2868e15c-256e-48a3-d9c1-210ae46880a8"
   },
   "outputs": [
    {
     "name": "stdout",
     "output_type": "stream",
     "text": [
      "the name of the player is CR7\n",
      "the age of the player is 35\n",
      "the position of the player is striker\n",
      "The player scored 10 goals\n"
     ]
    }
   ],
   "source": [
    "class Player(Soccer):\n",
    "  def __init__(self, name, age, position, goals):\n",
    "    super().__init__(name, age, position)\n",
    "    self.goals = goals\n",
    "  def records(self):\n",
    "    print(f'the name of the player is {self.name}')\n",
    "    print(f'the age of the player is {self.age}')\n",
    "    print(f'the position of the player is {self.position}')\n",
    "    print(f'The player scored {self.goals} goals')\n",
    "\n",
    "my_player = Player('CR7', '35', 'striker', '10')\n",
    "my_player.records()\n"
   ]
  },
  {
   "cell_type": "markdown",
   "metadata": {
    "id": "-H5iIaGU6Ew7"
   },
   "source": [
    "### 3.2.3 Polymorphism:\n",
    "\n",
    "Polymorphism, like inheritance and encapsulation, is a core concept in object-oriented programming. It essentially means \"many forms.\" In programming, polymorphism allows objects of different classes to be treated as objects of a common type. This lets you write code that can work with a variety of objects without needing to know their exact class."
   ]
  },
  {
   "cell_type": "code",
   "execution_count": null,
   "metadata": {
    "colab": {
     "base_uri": "https://localhost:8080/"
    },
    "id": "_ndOUp1y6D0H",
    "outputId": "a8f061ae-016a-4417-e3f8-6ea2b8a088c5"
   },
   "outputs": [
    {
     "name": "stdout",
     "output_type": "stream",
     "text": [
      "Chirp\n",
      "Meow\n"
     ]
    }
   ],
   "source": [
    "class Bird:\n",
    "    def speak(self):\n",
    "        return \"Chirp\"\n",
    "\n",
    "class Cat:\n",
    "    def speak(self):\n",
    "        return \"Meow\"\n",
    "\n",
    "def make_sound(animal):\n",
    "    print(animal.speak())\n",
    "\n",
    "make_sound(Bird())  # Output: Chirp\n",
    "make_sound(Cat())   # Output: Meow"
   ]
  },
  {
   "cell_type": "markdown",
   "metadata": {
    "id": "EkWq3WXwL0fZ"
   },
   "source": [
    "## 4. A quick tour to pandas"
   ]
  },
  {
   "cell_type": "code",
   "execution_count": null,
   "metadata": {
    "id": "dXcA52z0L6ax"
   },
   "outputs": [],
   "source": []
  },
  {
   "cell_type": "markdown",
   "metadata": {
    "id": "wTotYw_KL-9U"
   },
   "source": [
    "## 5. Project"
   ]
  },
  {
   "cell_type": "code",
   "execution_count": null,
   "metadata": {
    "id": "z78rMMwvMBgd"
   },
   "outputs": [],
   "source": []
  }
 ],
 "metadata": {
  "colab": {
   "provenance": []
  },
  "kernelspec": {
   "display_name": "Python 3 (ipykernel)",
   "language": "python",
   "name": "python3"
  },
  "language_info": {
   "codemirror_mode": {
    "name": "ipython",
    "version": 3
   },
   "file_extension": ".py",
   "mimetype": "text/x-python",
   "name": "python",
   "nbconvert_exporter": "python",
   "pygments_lexer": "ipython3",
   "version": "3.12.7"
  }
 },
 "nbformat": 4,
 "nbformat_minor": 4
}
