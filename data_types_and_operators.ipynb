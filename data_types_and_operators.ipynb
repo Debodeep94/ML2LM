{
 "cells": [
  {
   "cell_type": "markdown",
   "metadata": {
    "id": "K3eKsZ91pbfN"
   },
   "source": [
    "# Python Tutorial: Data Types, Data Structures and Object-Oriented Programming"
   ]
  },
  {
   "cell_type": "markdown",
   "metadata": {
    "id": "NzFs44eGprXP"
   },
   "source": [
    "## 1. Data types\n",
    "\n",
    "### What Are Data Types? <br>\n",
    "Data types define the kind of value a variable can hold in a programming language. In Python, every piece of data (like numbers, text or a collection of items) has a specific data type that tells Python how to process and store that data. <br>\n",
    "\n",
    "Some examples: <br>\n",
    "Text like \"Python\" is a `str` (string).<br>\n",
    "An integer like 7 is an `int` datatype while a decimal like 7.7 is a `float`. <br>\n",
    "A value like `True` or `False` is a `bool` (boolean).<br>\n",
    "<br>\n",
    "\n",
    "#### Dynamic Typing in Python\n",
    "One of Python's strengths is dynamic typing, which means you don’t need to declare the type of a variable explicitly like java or C++. Python automatically determines the type of a variable based on the value you assign to it.<br>\n",
    "<br>\n",
    "We can use the `type()` function to check the data type of a variable.\n",
    "\n"
   ]
  },
  {
   "cell_type": "code",
   "execution_count": null,
   "metadata": {
    "colab": {
     "base_uri": "https://localhost:8080/"
    },
    "id": "llX0qdvhpyKI",
    "outputId": "e39bb9a5-eadd-45c7-ff31-c85bef58e7b1"
   },
   "outputs": [
    {
     "data": {
      "text/plain": [
       "str"
      ]
     },
     "execution_count": 1,
     "metadata": {},
     "output_type": "execute_result"
    }
   ],
   "source": [
    "# string\n",
    "x = \"python\"\n",
    "\n",
    "# here Python knows the variable 'x' is a string represented as str\n",
    "\n",
    "type(x)"
   ]
  },
  {
   "cell_type": "code",
   "execution_count": null,
   "metadata": {
    "colab": {
     "base_uri": "https://localhost:8080/"
    },
    "id": "IStQZbNNqPIV",
    "outputId": "6346f219-8aba-4fec-afa2-9441b9777e95"
   },
   "outputs": [
    {
     "data": {
      "text/plain": [
       "int"
      ]
     },
     "execution_count": 2,
     "metadata": {},
     "output_type": "execute_result"
    }
   ],
   "source": [
    "# integer is represnted as 'int'\n",
    "\n",
    "x = 2\n",
    "\n",
    "type(x)"
   ]
  },
  {
   "cell_type": "code",
   "execution_count": null,
   "metadata": {
    "colab": {
     "base_uri": "https://localhost:8080/"
    },
    "id": "n-mZdRP9qa_g",
    "outputId": "9596c3fd-e518-43dd-af41-4a8baad5291d"
   },
   "outputs": [
    {
     "data": {
      "text/plain": [
       "float"
      ]
     },
     "execution_count": 3,
     "metadata": {},
     "output_type": "execute_result"
    }
   ],
   "source": [
    "# float is a decimal number, represnted as 'float'\n",
    "\n",
    "x = 2.0\n",
    "\n",
    "type(x)"
   ]
  },
  {
   "cell_type": "code",
   "execution_count": null,
   "metadata": {
    "colab": {
     "base_uri": "https://localhost:8080/"
    },
    "id": "HVaOC6VpOM_N",
    "outputId": "daee5ee5-45ed-408b-e031-169fb58657e3"
   },
   "outputs": [
    {
     "data": {
      "text/plain": [
       "bool"
      ]
     },
     "execution_count": 4,
     "metadata": {},
     "output_type": "execute_result"
    }
   ],
   "source": [
    "# bool is a binary variable that either takes True or False\n",
    "\n",
    "x = True\n",
    "\n",
    "type(x)"
   ]
  },
  {
   "cell_type": "markdown",
   "metadata": {
    "id": "GbdIIF8gO0Di"
   },
   "source": [
    "### Type Conversion\n",
    "Python provides two ways to perform type conversion: implicit type conversion and explicit type conversion (also known as casting). <br>\n",
    "*Implicit Type Conversion* : <br> When you perform operations involving different data types, Python automatically converts smaller or simpler types to more complex or compatible ones to avoid data loss without requiring explicit instructions from the programmer. This is also known as type coercion.<br>\n",
    "*Explicit Type Conversion* : <br> Explicit type conversion, or casting, involves manually converting one data type into another using Python's built-in functions. This gives the programmer more control but also requires caution to avoid data loss or errors.<br>\n",
    "Common Casting Functions<br>\n",
    "`int()`: Converts a value to an integer.<br>\n",
    "`float()`: Converts a value to a float.<br>\n",
    "`str()`: Converts a value to a string.<br>"
   ]
  },
  {
   "cell_type": "code",
   "execution_count": null,
   "metadata": {
    "colab": {
     "base_uri": "https://localhost:8080/"
    },
    "id": "c7G0cXSHPJcl",
    "outputId": "9f645ca6-5c78-4ca2-8ecd-a80ff2e75356"
   },
   "outputs": [
    {
     "name": "stdout",
     "output_type": "stream",
     "text": [
      "7.7\n",
      "<class 'float'>\n"
     ]
    }
   ],
   "source": [
    "# Integer and float addition\n",
    "num_int = 5      # Integer\n",
    "num_float = 2.7   # Float\n",
    "\n",
    "result = num_int + num_float  # Implicit conversion\n",
    "print(result)\n",
    "print(type(result))"
   ]
  },
  {
   "cell_type": "code",
   "execution_count": null,
   "metadata": {
    "colab": {
     "base_uri": "https://localhost:8080/"
    },
    "id": "fA5IGTYMQn9A",
    "outputId": "599bc8c6-57ac-4c10-de1c-e612d5fd5b48"
   },
   "outputs": [
    {
     "name": "stdout",
     "output_type": "stream",
     "text": [
      "2\n"
     ]
    }
   ],
   "source": [
    "num_int = int(num_float)  # Explicit conversion\n",
    "print(num_int)"
   ]
  },
  {
   "cell_type": "markdown",
   "metadata": {
    "id": "yEtQKo9gQ-Si"
   },
   "source": [
    "Note that the explicit conversion in the last example just truncated the float 2.7 to 2, not rounded it, which can lead to potential data loss."
   ]
  },
  {
   "cell_type": "code",
   "execution_count": null,
   "metadata": {
    "colab": {
     "base_uri": "https://localhost:8080/"
    },
    "id": "o2kTRe-GRcvT",
    "outputId": "7e8a84e6-62a9-4b8b-d8d9-8deb10596b43"
   },
   "outputs": [
    {
     "name": "stdout",
     "output_type": "stream",
     "text": [
      "34\n",
      "7\n"
     ]
    }
   ],
   "source": [
    "print('3'+'4')\n",
    "print(int('3')+int('4'))"
   ]
  },
  {
   "cell_type": "markdown",
   "metadata": {
    "id": "46z_imOIRnRJ"
   },
   "source": [
    "Note that in the last cell, when 2 strings are added in python, they are simply concatenated while on explicitly converting them to int, we get the desired result. <br>\n",
    "Explicit conversions are often needed when working with JSON data, to process strings, numbers and booleans.<br>\n",
    "E.g. `{\"age\": \"30\", \"is_member\": \"true\"}`"
   ]
  },
  {
   "cell_type": "markdown",
   "metadata": {
    "id": "IrsCwU942JRF"
   },
   "source": [
    "---\n",
    "\n",
    "# 2. Operators\n",
    "\n",
    "#### Arithmatic Operators\n",
    "\n",
    "| Operator | Description        | Example  | Result |\n",
    "|----------|--------------------|----------|--------|\n",
    "| `+`      | Addition           | `5 + 3`  | `8`    |\n",
    "| `-`      | Subtraction        | `10 - 4` | `6`    |\n",
    "| `*`      | Multiplication     | `2 * 6`  | `12`   |\n",
    "| `/`      | Division           | `15 / 3` | `5.0`  |\n",
    "| `//`     | Floor Division     | `15 // 4`| `3`    |\n",
    "| `%`      | Modulus (Remainder)| `15 % 4` | `3`    |\n",
    "| `**`     | Exponentiation     | `2 ** 3` | `8`    |\n",
    "\n",
    "<br>\n",
    "\n",
    "#### Relational Operators\n",
    "\n",
    "| Operator | Description               | Example     | Result  |\n",
    "|----------|---------------------------|-------------|---------|\n",
    "| `==`     | Equal to                  | `5 == 5`    | `True`  |\n",
    "| `!=`     | Not equal to              | `5 != 3`    | `True`  |\n",
    "| `>`      | Greater than              | `7 > 3`     | `True`  |\n",
    "| `<`      | Less than                 | `2 < 8`     | `True`  |\n",
    "| `>=`     | Greater than or equal to  | `5 >= 5`    | `True`  |\n",
    "| `<=`     | Less than or equal to     | `4 <= 6`    | `True`  |\n",
    "\n",
    "<br>\n",
    "\n",
    "#### Logical Operators\n",
    "\n",
    "| Operator | Description                        | Example        | Result  |\n",
    "|----------|------------------------------------|----------------|---------|\n",
    "| `and`    | Logical AND (True if both are True)| `True and False`| `False` |\n",
    "| `or`     | Logical OR (True if at least one is True)| `True or False` | `True`  |\n",
    "| `not`    | Logical NOT (Inverts the truth value)| `not True`     | `False` |\n",
    "\n",
    "<br>\n",
    "\n",
    "#### Assignment Operators\n",
    "\n",
    "| Operator | Description              | Example      | Result         |\n",
    "|----------|--------------------------|--------------|----------------|\n",
    "| `=`      | Assign                  | `x = 5`      | `x = 5`        |\n",
    "| `+=`     | Add and assign          | `x += 3`     | `x = x + 3`    |\n",
    "| `-=`     | Subtract and assign     | `x -= 2`     | `x = x - 2`    |\n",
    "| `*=`     | Multiply and assign     | `x *= 4`     | `x = x * 4`    |\n",
    "| `/=`     | Divide and assign       | `x /= 5`     | `x = x / 5`    |\n",
    "| `//=`    | Floor divide and assign | `x //= 3`    | `x = x // 3`   |\n",
    "| `%=`     | Modulus and assign      | `x %= 2`     | `x = x % 2`    |\n",
    "| `**=`    | Exponentiate and assign | `x **= 3`    | `x = x ** 3`   |\n",
    "\n",
    "<br>\n",
    "\n",
    "#### Membership Operators\n",
    "\n",
    "| Operator   | Description                  | Example            | Result  |\n",
    "|------------|------------------------------|--------------------|---------|\n",
    "| `in`       | Checks if an element is present | `'a' in 'apple'`   | `True`  |\n",
    "| `not in`   | Checks if an element is absent  | `'z' not in 'apple'` | `True`  |\n",
    "\n",
    "\n",
    "<br>\n",
    "\n",
    "#### Identity Operators\n",
    "\n",
    "| Operator   | Description                        | Example       | Result            |\n",
    "|------------|------------------------------------|---------------|-------------------|\n",
    "| `is`       | True if objects are the same       | `x is y`      | `True` or `False` |\n",
    "| `is not`   | True if objects are not the same   | `x is not y`  | `True` or `False` |\n"
   ]
  },
  {
   "cell_type": "markdown",
   "metadata": {
    "id": "aHNhzadnqIOK"
   },
   "source": []
  }
 ],
 "metadata": {
  "colab": {
   "provenance": []
  },
  "kernelspec": {
   "display_name": "Python 3 (ipykernel)",
   "language": "python",
   "name": "python3"
  },
  "language_info": {
   "codemirror_mode": {
    "name": "ipython",
    "version": 3
   },
   "file_extension": ".py",
   "mimetype": "text/x-python",
   "name": "python",
   "nbconvert_exporter": "python",
   "pygments_lexer": "ipython3",
   "version": "3.11.5"
  }
 },
 "nbformat": 4,
 "nbformat_minor": 4
}
