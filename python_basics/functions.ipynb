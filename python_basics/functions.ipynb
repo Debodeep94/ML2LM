{
 "cells": [
  {
   "cell_type": "markdown",
   "id": "b676b99e-afdf-4deb-bec2-66916dc78456",
   "metadata": {},
   "source": [
    "# Welcome to ML2LM"
   ]
  },
  {
   "cell_type": "markdown",
   "id": "679bcc00-2411-483d-96c8-74f9a99e74ad",
   "metadata": {},
   "source": [
    "### **Function: Definition and Advantages**\n",
    "\n",
    "A **function** is a reusable block of code designed to perform a specific task. Functions allow us to break down complex problems into smaller, manageable tasks.\n",
    "\n",
    "#### **Pros of Using Functions:**\n",
    "\n",
    "1. **Readability**  \n",
    "   - Functions make the code more **organized** and **easier to follow**. The logic is clearly separated into different tasks, which improves understanding.\n",
    "\n",
    "2. **Efficiency**  \n",
    "   - Using functions reduces redundancy in your code. The same function can be reused multiple times without rewriting the same logic, improving both speed and memory usage.\n",
    "\n",
    "3. **Reusability**  \n",
    "   - Once a function is written, it can be **used repeatedly** throughout the program or even in other projects, leading to reduced development time.\n",
    "--------------------------------------------------------------------------------------------------------------------\n",
    "#### Parameters and Argument\n",
    "\n",
    "`Parameter:`A **parameter** is a **variable** in the function definition that accepts values when the function is called. It acts as a placeholder for the input that the function will use during execution.\n",
    "\n",
    "`Argument:` An **argument** is the actual value or data that is passed to the function when it is called. Arguments are assigned to the corresponding parameters.\n",
    "\n",
    "```python\n",
    "def my_function(a,b,c):  a,b,c are called parameters\n",
    "    some task\n",
    "\n",
    "my_function (1,2,3): 1,2,3 are called arguments\n",
    "```\n",
    "--------------------------------------------------------------------------------------------------------------------\n",
    "| Feature       | Parameter | Argument |\n",
    "|--------------|----------|----------|\n",
    "| **Definition** | A variable in the function definition | A value passed to the function |\n",
    "| **When It Exists** | When defining a function | When calling a function |\n",
    "| **Example** | `def greet(name):` → `name` is a parameter | `greet(\"Alice\")` -> `\"Alice\"` is an argument |\n"
   ]
  },
  {
   "cell_type": "markdown",
   "id": "9871d071-27ac-42c0-84c2-2a992cdc5b70",
   "metadata": {},
   "source": []
  },
  {
   "cell_type": "code",
   "execution_count": 1,
   "id": "eb639623-22f5-413f-8107-ac241fbdcd38",
   "metadata": {},
   "outputs": [
    {
     "name": "stdout",
     "output_type": "stream",
     "text": [
      "the number 10 is even\n"
     ]
    }
   ],
   "source": [
    "num = 10\n",
    "if num%2==0:\n",
    "    print(f'the number {num} is even')\n",
    "else:\n",
    "    print(f'the number {num} is odd')"
   ]
  },
  {
   "cell_type": "code",
   "execution_count": 3,
   "id": "2a1fffae-d5b0-4a1f-a1f8-3bcbd2df629a",
   "metadata": {},
   "outputs": [
    {
     "name": "stdout",
     "output_type": "stream",
     "text": [
      "the number 39 is odd\n"
     ]
    }
   ],
   "source": [
    "def even_or_odd(number): # here 'number' is called 'parameter'\n",
    "    if number%2==0:\n",
    "        print(f'the number {number} is even')\n",
    "    else:\n",
    "        print(f'the number {number} is odd')\n",
    "\n",
    "even_or_odd(39) # 39 is an argument"
   ]
  },
  {
   "cell_type": "code",
   "execution_count": 25,
   "id": "37cc807c-53d4-4d74-99d1-a36cc59b9029",
   "metadata": {},
   "outputs": [
    {
     "name": "stdout",
     "output_type": "stream",
     "text": [
      "the number 16 is even\n"
     ]
    }
   ],
   "source": [
    "def calc (number):\n",
    "    if number%2==0:\n",
    "        z = number**2\n",
    "        return z\n",
    "    else:\n",
    "        z = number**3\n",
    "        return z\n",
    "\n",
    "output = calc(3)\n",
    "even_or_odd(calc(4))"
   ]
  },
  {
   "cell_type": "code",
   "execution_count": 8,
   "id": "ede9de91-3016-4af4-a939-6ccc18d74c7d",
   "metadata": {},
   "outputs": [
    {
     "ename": "NameError",
     "evalue": "name 'calc' is not defined",
     "output_type": "error",
     "traceback": [
      "\u001b[0;31m---------------------------------------------------------------------------\u001b[0m",
      "\u001b[0;31mNameError\u001b[0m                                 Traceback (most recent call last)",
      "Cell \u001b[0;32mIn[8], line 2\u001b[0m\n\u001b[1;32m      1\u001b[0m list_nums \u001b[38;5;241m=\u001b[39m [\u001b[38;5;241m1\u001b[39m,\u001b[38;5;241m2\u001b[39m,\u001b[38;5;241m4\u001b[39m,\u001b[38;5;241m56\u001b[39m, \u001b[38;5;241m3\u001b[39m]\n\u001b[0;32m----> 2\u001b[0m results \u001b[38;5;241m=\u001b[39m calc(list_nums)\n\u001b[1;32m      3\u001b[0m results\n",
      "\u001b[0;31mNameError\u001b[0m: name 'calc' is not defined"
     ]
    }
   ],
   "source": [
    "list_nums = [1,2,4,56, 3]\n",
    "results = calc(list_nums)\n",
    "results"
   ]
  },
  {
   "cell_type": "code",
   "execution_count": 29,
   "id": "3062ae00-e317-40bb-b8e7-2548f6564ab7",
   "metadata": {},
   "outputs": [
    {
     "data": {
      "text/plain": [
       "[1, 4, 16, 3136, 27]"
      ]
     },
     "execution_count": 29,
     "metadata": {},
     "output_type": "execute_result"
    }
   ],
   "source": [
    "# Method 1: list comprehension\n",
    "results = [calc(i) for i in list_nums]\n",
    "results"
   ]
  },
  {
   "cell_type": "code",
   "execution_count": 30,
   "id": "b9754047-0d6c-4d6f-85c2-f112bc45d7e8",
   "metadata": {},
   "outputs": [
    {
     "data": {
      "text/plain": [
       "[1, 4, 16, 3136, 27]"
      ]
     },
     "execution_count": 30,
     "metadata": {},
     "output_type": "execute_result"
    }
   ],
   "source": [
    "# Method 2: Map function\n",
    "\n",
    "results_m2 = list(map(calc, list_nums))\n",
    "results_m2"
   ]
  },
  {
   "cell_type": "code",
   "execution_count": 31,
   "id": "fd5b6458-917e-45e0-b866-064b24970648",
   "metadata": {},
   "outputs": [
    {
     "data": {
      "text/plain": [
       "array([ 1,  2,  4, 56,  3])"
      ]
     },
     "execution_count": 31,
     "metadata": {},
     "output_type": "execute_result"
    }
   ],
   "source": [
    "import numpy as np\n",
    "\n",
    "list_array = np.array(list_nums)\n",
    "list_array"
   ]
  },
  {
   "cell_type": "code",
   "execution_count": 32,
   "id": "e737edd9-9a58-41de-aca3-4e5e968db405",
   "metadata": {},
   "outputs": [
    {
     "data": {
      "text/plain": [
       "array([   1,    4,   16, 3136,   27])"
      ]
     },
     "execution_count": 32,
     "metadata": {},
     "output_type": "execute_result"
    }
   ],
   "source": [
    "np_results = np.vectorize(calc)(list_nums)\n",
    "np_results"
   ]
  },
  {
   "cell_type": "code",
   "execution_count": 33,
   "id": "dfc8ae88-d1d9-4bac-8ad8-c9a14022982b",
   "metadata": {},
   "outputs": [
    {
     "data": {
      "text/plain": [
       "[1, 4, 16, 3136, 27]"
      ]
     },
     "execution_count": 33,
     "metadata": {},
     "output_type": "execute_result"
    }
   ],
   "source": [
    "list(np_results)"
   ]
  },
  {
   "cell_type": "code",
   "execution_count": 12,
   "id": "ce3d2afb-53ca-4192-bd42-9d67b1f8a615",
   "metadata": {},
   "outputs": [
    {
     "data": {
      "text/plain": [
       "['odd', 'even', 'even', 'even', 'odd']"
      ]
     },
     "execution_count": 12,
     "metadata": {},
     "output_type": "execute_result"
    }
   ],
   "source": [
    "# function taking an iterable\n",
    "\n",
    "def calc_list(my_list):\n",
    "    output=[]\n",
    "    for i in my_list:\n",
    "        if i%2==0:\n",
    "            output.append('even')\n",
    "        else:\n",
    "            output.append('odd')\n",
    "    return output\n",
    "\n",
    "results = calc_list(list_nums)\n",
    "results"
   ]
  },
  {
   "cell_type": "code",
   "execution_count": null,
   "id": "999d5337-7120-42fa-8985-39c299a23110",
   "metadata": {},
   "outputs": [],
   "source": [
    "def iterate_anything(data):\n",
    "    try:\n",
    "        iterator = iter(data)  # Check if it's iterable\n",
    "        for item in iterator:\n",
    "            print(item)\n",
    "    except TypeError:\n",
    "        print(\"Not an iterable!\")\n",
    "\n",
    "# Testing with different iterables\n",
    "iterate_anything([1, 2, 3])\n",
    "# iterate_anything(\"hello\")\n",
    "iterate_anything(100)  # This will show \"Not an iterable!\""
   ]
  },
  {
   "cell_type": "markdown",
   "id": "bf176269-403a-4608-8e1e-5083cf876ce1",
   "metadata": {},
   "source": [
    "#### **`Default arguments:`**\n",
    "\n",
    "In Python, `default arguments` are the values that are automatically assigned to a function parameter if no argument is provided during the function call. For eg.\n",
    "\n",
    "```python\n",
    "def get_person(name, occupation='unspecified'):\n",
    "    print(f\"The occupation of {name} is {occupation}\")\n",
    "```\n",
    "`get_person('ABC')`\n",
    "\n",
    "\n",
    "`outcome : The occupation of ABC is *unspecified*`\n",
    "\n",
    "**Note:** We passed a `default` argument to the `parameter occupation` during the function call.\n",
    "\n",
    "---\n",
    "\n",
    "#### **`Positional Arguments:`**  \n",
    "In Python, **positional arguments** are assigned to function parameters **based on their position** in the function call. The order in which arguments are passed matters.\n",
    "\n",
    "For example:\n",
    "\n",
    "```python\n",
    "def describe_person(name, age):\n",
    "    print(f\"{name} is {age} years old.\")\n",
    "```\n",
    "`describe_person(\"ABC\", 25)`\n",
    "\n",
    "`output: ABC is 25 years old`\n",
    "\n",
    "---\n",
    "\n",
    "#### **`Keyword Arguments:`**\n",
    "Keyword arguments (kwargs) are passed with parameter names in the function call. This allows us to pass arguments in any order.\n",
    "```python\n",
    "def describe_person(name, age):\n",
    "    print(f\"{name} is {age} years old.\")\n",
    "```\n",
    "\n",
    "`describe_person(age=30, name=\"ABC\")`\n",
    "\n",
    "`output: ABC is 25 years old`\n",
    "\n",
    "\n",
    "---\n",
    "\n",
    "#### **`*args` (Arbitrary Positional Arguments)**  \n",
    "\n",
    "In Python, `*args` allows a function to accept an arbitrary number of **positional arguments**.  \n",
    "\n",
    "- The `*` symbol is an **unpacking operator** that collects multiple arguments into a **tuple**.  \n",
    "- The name `args` is **not mandatory**; any valid variable name preceded by `*` will work (e.g., `*values`, `*numbers`).  \n",
    "- It is useful when we don’t know in advance how many arguments will be passed to the function.  \n",
    "\n",
    " **Example:**  \n",
    "```python\n",
    "def add_numbers(*args):\n",
    "    print(\"Tuple of arguments:\", args)  # args is a tuple\n",
    "    return sum(args)\n",
    "\n",
    "print(add_numbers(1, 2, 3, 4))  # Output: (1, 2, 3, 4) → 10\n",
    "```\n",
    "\n",
    "---\n",
    "\n",
    "#### **`**kwargs` (Arbitrary Keyword Arguments)**  \n",
    "\n",
    "In Python, `**kwargs` allows a function to accept an arbitrary number of **keyword arguments** (i.e., named arguments in `key=value` format).  \n",
    "\n",
    "- The `**` symbol is an **unpacking operator** that collects multiple keyword arguments into a **dictionary**.  \n",
    "- The name `kwargs` is **not mandatory**; any valid variable name preceded by `**` will work (e.g., `**data`, `**details`).  \n",
    "- It is useful when we don’t know in advance how many keyword arguments will be passed to the function.  \n",
    "\n",
    "##### **Example:**  \n",
    "```python\n",
    "def display_info(**kwargs):\n",
    "    print(\"Dictionary of arguments:\", kwargs)  # kwargs is a dictionary\n",
    "    for key, value in kwargs.items():\n",
    "        print(f\"{key}: {value}\")\n",
    "\n",
    "display_info(name=\"ABC\", age=25, city=\"Kolkata\")\n",
    "\n"
   ]
  },
  {
   "cell_type": "code",
   "execution_count": 16,
   "id": "ced167d1-fd0a-42b8-9a3d-2af4c937ec15",
   "metadata": {},
   "outputs": [
    {
     "data": {
      "text/plain": [
       "9"
      ]
     },
     "execution_count": 16,
     "metadata": {},
     "output_type": "execute_result"
    }
   ],
   "source": [
    "def sums(*args):\n",
    "    return sum(args)\n",
    "\n",
    "sums(1,2,3,3)"
   ]
  },
  {
   "cell_type": "code",
   "execution_count": 19,
   "id": "1e799dab-16b4-49ad-8cd9-12b1ae66838a",
   "metadata": {},
   "outputs": [
    {
     "name": "stdout",
     "output_type": "stream",
     "text": [
      "{'abc': 25, 'ytf': 45, 'cvf': 30}\n"
     ]
    },
    {
     "data": {
      "text/plain": [
       "33.333333333333336"
      ]
     },
     "execution_count": 19,
     "metadata": {},
     "output_type": "execute_result"
    }
   ],
   "source": [
    "def age(**kwargs):\n",
    "    print(\n",
    "    print(kwargs)\n",
    "    return sum(kwargs.values())/len(kwargs)\n",
    "\n",
    "age(abc=25, ytf = 45, cvf=30)"
   ]
  },
  {
   "cell_type": "code",
   "execution_count": null,
   "id": "ab799f65-64a3-45a8-a992-5bee09f888bd",
   "metadata": {},
   "outputs": [],
   "source": []
  },
  {
   "cell_type": "code",
   "execution_count": null,
   "id": "f4a4540e-9761-4834-84a1-b298e3eeada3",
   "metadata": {},
   "outputs": [],
   "source": []
  }
 ],
 "metadata": {
  "kernelspec": {
   "display_name": "Python 3 (ipykernel)",
   "language": "python",
   "name": "python3"
  },
  "language_info": {
   "codemirror_mode": {
    "name": "ipython",
    "version": 3
   },
   "file_extension": ".py",
   "mimetype": "text/x-python",
   "name": "python",
   "nbconvert_exporter": "python",
   "pygments_lexer": "ipython3",
   "version": "3.11.5"
  }
 },
 "nbformat": 4,
 "nbformat_minor": 5
}
