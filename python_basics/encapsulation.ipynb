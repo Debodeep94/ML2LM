{
 "cells": [
  {
   "cell_type": "markdown",
   "id": "a02e23b9-0e63-4e06-821c-07a4ff0987a6",
   "metadata": {},
   "source": [
    "# Welcome to ML2LM\n",
    "### Encapsulation. Allows to indicate whether an attribute can be accessed from anywhere. \n",
    "- public - Can be accessed from anywhre\n",
    "- Protected - Can be accessed **only** from a subclass\n",
    "- Private - Access restricted from **anywhere**"
   ]
  },
  {
   "cell_type": "code",
   "execution_count": 8,
   "id": "88ff5a2d-9cd8-4bb9-b07c-7315028cf9a4",
   "metadata": {},
   "outputs": [
    {
     "data": {
      "text/plain": [
       "'LM10'"
      ]
     },
     "execution_count": 8,
     "metadata": {},
     "output_type": "execute_result"
    }
   ],
   "source": [
    "class Soccer:\n",
    "    # Constructor\n",
    "    def __init__(self, name, age, position):\n",
    "        self.name = name # public\n",
    "        self.age = age # public\n",
    "        self.position = position # public\n",
    "    def details(self):\n",
    "        print(f'name of the player is {self.name}')\n",
    "        print(f'Age of the player is {self.age}')\n",
    "        print(f'The position of the player is {self.position}')\n",
    "\n",
    "player1 = Soccer('cr7', '39', 'striker')\n",
    "player1.name = 'LM10'\n",
    "player1.name"
   ]
  },
  {
   "cell_type": "code",
   "execution_count": null,
   "id": "e76c9dda-85c1-4205-95f5-a097c275c94a",
   "metadata": {},
   "outputs": [],
   "source": []
  },
  {
   "cell_type": "code",
   "execution_count": 9,
   "id": "ceb09417-48f6-4046-ada1-61e7bd14bf90",
   "metadata": {},
   "outputs": [
    {
     "data": {
      "text/plain": [
       "['__class__',\n",
       " '__delattr__',\n",
       " '__dict__',\n",
       " '__dir__',\n",
       " '__doc__',\n",
       " '__eq__',\n",
       " '__format__',\n",
       " '__ge__',\n",
       " '__getattribute__',\n",
       " '__getstate__',\n",
       " '__gt__',\n",
       " '__hash__',\n",
       " '__init__',\n",
       " '__init_subclass__',\n",
       " '__le__',\n",
       " '__lt__',\n",
       " '__module__',\n",
       " '__ne__',\n",
       " '__new__',\n",
       " '__reduce__',\n",
       " '__reduce_ex__',\n",
       " '__repr__',\n",
       " '__setattr__',\n",
       " '__sizeof__',\n",
       " '__str__',\n",
       " '__subclasshook__',\n",
       " '__weakref__',\n",
       " 'age',\n",
       " 'details',\n",
       " 'name',\n",
       " 'position']"
      ]
     },
     "execution_count": 9,
     "metadata": {},
     "output_type": "execute_result"
    }
   ],
   "source": [
    "dir(player1)"
   ]
  },
  {
   "cell_type": "code",
   "execution_count": 14,
   "id": "1d6a3ef4-500f-4f72-83bd-8275b24a2f89",
   "metadata": {},
   "outputs": [
    {
     "name": "stdout",
     "output_type": "stream",
     "text": [
      "['__class__', '__delattr__', '__dict__', '__dir__', '__doc__', '__eq__', '__format__', '__ge__', '__getattribute__', '__getstate__', '__gt__', '__hash__', '__init__', '__init_subclass__', '__le__', '__lt__', '__module__', '__ne__', '__new__', '__reduce__', '__reduce_ex__', '__repr__', '__setattr__', '__sizeof__', '__str__', '__subclasshook__', '__weakref__', '_age', '_name', '_position', 'details']\n",
      "LM10\n"
     ]
    }
   ],
   "source": [
    "# Protected\n",
    "class Soccer:\n",
    "    # Constructor\n",
    "    def __init__(self, name, age, position):\n",
    "        self._name = name # protected\n",
    "        self._age = age # protected\n",
    "        self._position = position # protected\n",
    "    def details(self):\n",
    "        print(f'name of the player is {self._name}')\n",
    "        print(f'Age of the player is {self._age}')\n",
    "        print(f'The position of the player is {self._position}')\n",
    "\n",
    "class SuperPlayer(Soccer):\n",
    "    def __init__(self, name, age, position, goals):\n",
    "        super().__init__(name, age, position)\n",
    "        self.goals = goals\n",
    "    def records(self):\n",
    "        print(f'the player scored {self.goals} goals in last tournament')\n",
    "        \n",
    "player1 = Soccer('cr7', '39', 'striker')\n",
    "print(dir(player1))\n",
    "player1._name = 'LM10'\n",
    "print(player1._name)"
   ]
  },
  {
   "cell_type": "code",
   "execution_count": 19,
   "id": "36e41269-7f3e-4f1c-9343-ffc517c1d1ec",
   "metadata": {},
   "outputs": [
    {
     "data": {
      "text/plain": [
       "'LM10'"
      ]
     },
     "execution_count": 19,
     "metadata": {},
     "output_type": "execute_result"
    }
   ],
   "source": [
    "# Private\n",
    "class Soccer():\n",
    "    # Constructor\n",
    "    def __init__(self, name, age, position):\n",
    "        self.__name = name # private\n",
    "        self.__age = age # private\n",
    "        self.__position = position # private\n",
    "    def details(self):\n",
    "        print(f'name of the player is {self.__name}')\n",
    "        print(f'Age of the player is {self.__age}')\n",
    "        print(f'The position of the player is {self.__position}')\n",
    "\n",
    "player1 = Soccer('cr7', '39', 'striker')\n",
    "player1._Soccer__name = 'LM10'\n",
    "player1._Soccer__name\n",
    "#dir(player1)"
   ]
  },
  {
   "cell_type": "code",
   "execution_count": null,
   "id": "5d4264d4-2b48-45b8-9501-b70e4866d07f",
   "metadata": {},
   "outputs": [],
   "source": []
  }
 ],
 "metadata": {
  "kernelspec": {
   "display_name": "Python 3 (ipykernel)",
   "language": "python",
   "name": "python3"
  },
  "language_info": {
   "codemirror_mode": {
    "name": "ipython",
    "version": 3
   },
   "file_extension": ".py",
   "mimetype": "text/x-python",
   "name": "python",
   "nbconvert_exporter": "python",
   "pygments_lexer": "ipython3",
   "version": "3.11.5"
  }
 },
 "nbformat": 4,
 "nbformat_minor": 5
}
