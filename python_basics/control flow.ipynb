{
 "cells": [
  {
   "cell_type": "markdown",
   "id": "e135d2eb-4e61-46b2-9e58-c3b3d036c3ba",
   "metadata": {},
   "source": [
    "# Welcome to ML2LM\n",
    "\n",
    "## Control Flow\n",
    "### Definition:\n",
    "Control Flow determines the order in which individual instructions, statements, or function calls are executed in a program. Without it, a program would just run line by line, top to bottom, without any decision-making or looping.\n"
   ]
  },
  {
   "cell_type": "markdown",
   "id": "8145f703-751f-4610-a657-74464e32d35c",
   "metadata": {},
   "source": [
    "**Conditional Statements:** The `if-elif-else` ladder\n",
    "\n",
    "Conditional statements let a program make decisions. If a condition is met, one block of code runs; otherwise, another block runs."
   ]
  },
  {
   "cell_type": "code",
   "execution_count": 2,
   "id": "e39e046a-f19e-453d-8dc2-97cf1194cb6d",
   "metadata": {},
   "outputs": [
    {
     "name": "stdout",
     "output_type": "stream",
     "text": [
      "The number 25 is odd\n"
     ]
    }
   ],
   "source": [
    "# Check if a number is even or odd\n",
    "\n",
    "num = 25 #Assuming the number is integer\n",
    "\n",
    "if num%2==0:\n",
    "    print(f\"The number {num} is even\") #action or decision\n",
    "else:\n",
    "    print(f\"The number {num} is odd\")"
   ]
  },
  {
   "cell_type": "code",
   "execution_count": 5,
   "id": "ea697428-8a18-4e15-bc52-e2c58447e7cc",
   "metadata": {},
   "outputs": [
    {
     "name": "stdout",
     "output_type": "stream",
     "text": [
      "Grade: F\n"
     ]
    }
   ],
   "source": [
    "score = 35\n",
    "if score >= 80:\n",
    "    print(\"Grade: A\")\n",
    "elif score >= 60:\n",
    "    print(\"Grade: B\")\n",
    "elif score >= 40:\n",
    "    print(\"Grade: C\")\n",
    "else:\n",
    "    print(\"Grade: F\")"
   ]
  },
  {
   "cell_type": "markdown",
   "id": "6394914c-a29d-4fe6-9b7e-24ab2c112a7c",
   "metadata": {},
   "source": [
    "**Loops:** `for` loop and `while` loop"
   ]
  },
  {
   "cell_type": "code",
   "execution_count": 6,
   "id": "c83ba674-678a-4f5f-81af-49e78a12528c",
   "metadata": {},
   "outputs": [
    {
     "name": "stdout",
     "output_type": "stream",
     "text": [
      "0\n",
      "1\n",
      "4\n",
      "9\n",
      "16\n"
     ]
    }
   ],
   "source": [
    "for i in range(5):\n",
    "    print(i**2)"
   ]
  },
  {
   "cell_type": "code",
   "execution_count": 8,
   "id": "ae13f10d-5ade-47b2-b16c-e70c0bf55c3e",
   "metadata": {},
   "outputs": [
    {
     "name": "stdout",
     "output_type": "stream",
     "text": [
      "0\n",
      "4\n",
      "16\n"
     ]
    }
   ],
   "source": [
    "i = 0\n",
    "while(i<5):\n",
    "    print(i**2)\n",
    "    i+=2"
   ]
  },
  {
   "cell_type": "markdown",
   "id": "19c99bb8-53fc-4541-9d18-989cd783b7c0",
   "metadata": {},
   "source": [
    "**Control Statements in Loops:** `break`, `continue` and `pass`."
   ]
  },
  {
   "cell_type": "code",
   "execution_count": 10,
   "id": "68e05079-a762-4187-9b95-98958ba9011b",
   "metadata": {},
   "outputs": [
    {
     "name": "stdout",
     "output_type": "stream",
     "text": [
      "Processing score: 85\n",
      "Skipping out-of-range score: 192.\n",
      "Processing score: 1\n",
      "Processing score: 76\n",
      "Score is exactly 50. No action taken.\n",
      "Skipping out-of-range score: 105.\n",
      "Processing score: 89\n",
      "Processing score: 48\n",
      "Processing score: 90\n"
     ]
    }
   ],
   "source": [
    "scores = [85, 192, 1, 76, 50, 105, 89, 48, 90]\n",
    "\n",
    "for score in scores:\n",
    "    # Stop processing if an invalid score is found\n",
    "    if score < 0:\n",
    "        print(f\"Invalid score encountered: {score}. Stopping processing.\")\n",
    "        break\n",
    "\n",
    "    # Skip scores that are out of range\n",
    "    if score > 100:\n",
    "        print(f\"Skipping out-of-range score: {score}.\")\n",
    "        continue\n",
    "\n",
    "    # Do nothing for scores exactly 50\n",
    "    if score == 50:\n",
    "        pass  # Placeholder for future logic\n",
    "        print(f\"Score is exactly 50. No action taken.\")\n",
    "        continue\n",
    "\n",
    "    # Process valid scores (between 0 and 100, excluding 50)\n",
    "    print(f\"Processing score: {score}\")\n"
   ]
  },
  {
   "cell_type": "code",
   "execution_count": 11,
   "id": "995f5aa4-a1ac-47a9-8250-892b4543e76b",
   "metadata": {},
   "outputs": [
    {
     "name": "stdout",
     "output_type": "stream",
     "text": [
      "Q: What is 5 x 7?\n"
     ]
    },
    {
     "name": "stdin",
     "output_type": "stream",
     "text": [
      "A:  34\n"
     ]
    },
    {
     "name": "stdout",
     "output_type": "stream",
     "text": [
      "Incorrect. Try again.\n"
     ]
    },
    {
     "name": "stdin",
     "output_type": "stream",
     "text": [
      "A:  56\n"
     ]
    },
    {
     "name": "stdout",
     "output_type": "stream",
     "text": [
      "Incorrect. Try again.\n"
     ]
    },
    {
     "name": "stdin",
     "output_type": "stream",
     "text": [
      "A:  76\n"
     ]
    },
    {
     "name": "stdout",
     "output_type": "stream",
     "text": [
      "Incorrect. Try again.\n"
     ]
    },
    {
     "name": "stdin",
     "output_type": "stream",
     "text": [
      "A:  35\n"
     ]
    },
    {
     "name": "stdout",
     "output_type": "stream",
     "text": [
      "Correct!\n"
     ]
    }
   ],
   "source": [
    "print(\"Q: What is 5 x 7?\")\n",
    "while True:\n",
    "    answer = input(\"A: \")\n",
    "    if answer == \"35\":\n",
    "        print(\"Correct!\")\n",
    "        break\n",
    "    else:\n",
    "        print(\"Incorrect. Try again.\")"
   ]
  },
  {
   "cell_type": "code",
   "execution_count": 16,
   "id": "44fdcb78-cac6-4054-a213-52ae0966777e",
   "metadata": {},
   "outputs": [
    {
     "name": "stdout",
     "output_type": "stream",
     "text": [
      "india\n",
      "nepal\n",
      "italy\n",
      "china\n",
      "russia\n"
     ]
    }
   ],
   "source": [
    "countries = ['india', 'nepal', 'italy', 'china', 'russia']\n",
    "\n",
    "capitals = ['new delhi', 'kathmandu', 'roma', 'beijing', 'moscow']\n",
    "# Using Loops to Access Elements (to be revisited after for loops)\n",
    "# for loop\n",
    "for country in countries:\n",
    "  print(country)\n"
   ]
  },
  {
   "cell_type": "code",
   "execution_count": 21,
   "id": "f61e8f90-c04f-4b2d-9597-111a77516e8f",
   "metadata": {},
   "outputs": [
    {
     "name": "stdout",
     "output_type": "stream",
     "text": [
      "['india', 'italy']\n"
     ]
    }
   ],
   "source": [
    "\n",
    "# list comprehension\n",
    "i_countries = [country for country in countries if country[0] == 'i'] # list of countries that begin with i\n",
    "print(i_countries)\n"
   ]
  },
  {
   "cell_type": "code",
   "execution_count": 22,
   "id": "5cbb6b0e-4609-44c2-91d1-32225c4842db",
   "metadata": {},
   "outputs": [
    {
     "name": "stdout",
     "output_type": "stream",
     "text": [
      "[('india', 'new delhi'), ('italy', 'roma')]\n"
     ]
    }
   ],
   "source": [
    "# zip\n",
    "i_countries = [(country, capital) for country, capital in zip(countries, capitals) if country[0] == 'i']\n",
    "print(i_countries)"
   ]
  },
  {
   "cell_type": "code",
   "execution_count": null,
   "id": "76aff8ef-1eef-4b12-afc5-8003b11e8085",
   "metadata": {},
   "outputs": [],
   "source": []
  }
 ],
 "metadata": {
  "kernelspec": {
   "display_name": "Python 3 (ipykernel)",
   "language": "python",
   "name": "python3"
  },
  "language_info": {
   "codemirror_mode": {
    "name": "ipython",
    "version": 3
   },
   "file_extension": ".py",
   "mimetype": "text/x-python",
   "name": "python",
   "nbconvert_exporter": "python",
   "pygments_lexer": "ipython3",
   "version": "3.11.5"
  }
 },
 "nbformat": 4,
 "nbformat_minor": 5
}
