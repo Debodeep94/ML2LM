{
 "cells": [
  {
   "cell_type": "markdown",
   "id": "1f4e990d-6ed0-4096-8940-00397e377fe5",
   "metadata": {},
   "source": [
    "# Welcome ML2LM\n",
    "\n",
    "## Object-Oriented Programming (OOP)\n",
    "\n",
    "### Classes and Objects\n",
    "A **class** is a blueprint for creating objects. It defines a set of attributes and methods that the created objects will have.\n",
    "\n",
    "An **object** is an instance of a class. It represents a real-world entity and can have its own unique data.\n",
    "\n",
    "### Example:\n",
    "```python\n",
    "class Car:\n",
    "    def __init__(self, brand, model, year):\n",
    "        self.brand = brand\n",
    "        self.model = model\n",
    "        self.year = year\n",
    "\n",
    "    def display_info(self):\n",
    "        return f\"{self.year} {self.brand} {self.model}\"\n",
    "\n",
    "# Creating an object\n",
    "my_car = Car(\"Toyota\", \"Corolla\", 2022)\n",
    "print(my_car.display_info())  # Output: 2022 Toyota Corolla\n",
    "```\n",
    "\n",
    "### Explanation\n",
    "- The `Car` class defines attributes (`brand`, `model`, `year`) and a method `display_info`.\n",
    "- The `__init__` method is a constructor that initializes the object's attributes.\n",
    "- `my_car` is an instance of `Car`, created with specific values.\n",
    "- Calling `display_info()` returns a formatted string representing the car's details.\n"
   ]
  },
  {
   "cell_type": "code",
   "execution_count": 4,
   "id": "9e0e4a19-015f-47d7-b8fe-08f4b2582f2d",
   "metadata": {},
   "outputs": [
    {
     "name": "stdout",
     "output_type": "stream",
     "text": [
      "<__main__.Car object at 0x110fe0310>\n"
     ]
    }
   ],
   "source": [
    "class Car: # empty class\n",
    "    pass\n",
    "\n",
    "car1 = Car()\n",
    "#car1.windows = 4\n",
    "#print(car1.windows)\n",
    "print(car1)"
   ]
  },
  {
   "cell_type": "code",
   "execution_count": 5,
   "id": "c14f1c19-5ac4-460c-b102-2591110443a0",
   "metadata": {},
   "outputs": [
    {
     "data": {
      "text/plain": [
       "['__class__',\n",
       " '__delattr__',\n",
       " '__dict__',\n",
       " '__dir__',\n",
       " '__doc__',\n",
       " '__eq__',\n",
       " '__format__',\n",
       " '__ge__',\n",
       " '__getattribute__',\n",
       " '__getstate__',\n",
       " '__gt__',\n",
       " '__hash__',\n",
       " '__init__',\n",
       " '__init_subclass__',\n",
       " '__le__',\n",
       " '__lt__',\n",
       " '__module__',\n",
       " '__ne__',\n",
       " '__new__',\n",
       " '__reduce__',\n",
       " '__reduce_ex__',\n",
       " '__repr__',\n",
       " '__setattr__',\n",
       " '__sizeof__',\n",
       " '__str__',\n",
       " '__subclasshook__',\n",
       " '__weakref__']"
      ]
     },
     "execution_count": 5,
     "metadata": {},
     "output_type": "execute_result"
    }
   ],
   "source": [
    "dir(car1)"
   ]
  },
  {
   "cell_type": "code",
   "execution_count": 7,
   "id": "aa0859fd-1c38-4414-91cc-1a5e1e4deded",
   "metadata": {},
   "outputs": [
    {
     "name": "stdout",
     "output_type": "stream",
     "text": [
      "fortuner\n",
      "safari\n"
     ]
    }
   ],
   "source": [
    "class Car:\n",
    "    def __init__(self, company, model , year): #constructor\n",
    "        self.company = company\n",
    "        self.model = model\n",
    "        self.year = year\n",
    "\n",
    "car1 = Car('toyota', 'fortuner', 2022)\n",
    "print(car1.model)\n",
    "car2 = Car('tata', 'safari', 2015)\n",
    "print(car2.model)"
   ]
  },
  {
   "cell_type": "code",
   "execution_count": 11,
   "id": "af804260-e5aa-4184-b085-c0aa774a2738",
   "metadata": {},
   "outputs": [
    {
     "name": "stdout",
     "output_type": "stream",
     "text": [
      "The company of the car is toyota and the model is fortuner. The car was manufactured in 2022. The car uses petrol.\n",
      "The company of the car is tata and the model is safari. The car was manufactured in 2015. The car uses diesel.\n"
     ]
    }
   ],
   "source": [
    "class Car:\n",
    "    def __init__(self, company, model , year): #constructor\n",
    "        self.company = company\n",
    "        self.model = model\n",
    "        self.year = year\n",
    "    def get_descriptions(self, engine):\n",
    "        details = f'The company of the car is {self.company} and the model is {self.model}. The car was manufactured in {self.year}. The car uses {engine}.'\n",
    "        return details\n",
    "\n",
    "car1 = Car('toyota', 'fortuner', '2022')\n",
    "print(car1.get_descriptions('petrol'))\n",
    "car2 = Car('tata', 'safari', 2015)\n",
    "print(car2.get_descriptions('diesel'))"
   ]
  },
  {
   "cell_type": "code",
   "execution_count": null,
   "id": "da8a6f67-294a-4a5c-97cb-78b10c64f438",
   "metadata": {},
   "outputs": [],
   "source": []
  }
 ],
 "metadata": {
  "kernelspec": {
   "display_name": "Python 3 (ipykernel)",
   "language": "python",
   "name": "python3"
  },
  "language_info": {
   "codemirror_mode": {
    "name": "ipython",
    "version": 3
   },
   "file_extension": ".py",
   "mimetype": "text/x-python",
   "name": "python",
   "nbconvert_exporter": "python",
   "pygments_lexer": "ipython3",
   "version": "3.11.5"
  }
 },
 "nbformat": 4,
 "nbformat_minor": 5
}
