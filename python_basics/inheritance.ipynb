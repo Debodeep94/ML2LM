{
 "cells": [
  {
   "cell_type": "markdown",
   "id": "ddc829d7-fb35-4cdf-8ad0-986fcaa6bd81",
   "metadata": {},
   "source": [
    "# Welcome to ML2LM\n",
    "\n",
    "## Inheritance\n",
    "**Definition**\n",
    "Inheritance is a fundamental concept in object oriented programmming. It allows us to define new class (often called as child class/ sub-class) that *inherits* the attributes and methods of an existing *parent class*.\n",
    "\n",
    "- ```Parent class:``` The existing class that provides attributes and methods to be inherited.\n",
    "- ```Child class:``` The class that inherits the attributes and methods of the parent class.\n",
    "\n",
    "**Advantages**\n",
    "\n",
    "- Promote code reusuability by allowing classes to share common functionalities\n",
    "- Helps to maintain a hierarchical structure\n",
    "\n",
    "### Pseudo example\n",
    "```python\n",
    "class ParentClass:\n",
    "    def __init__(self,parent_attr):\n",
    "        self.parent_attr = parent_attr\n",
    "    def parent_class_method(self):\n",
    "        pass\n",
    "class ChildClass(ParentClass):\n",
    "    def __init__(self,parent_attr, child_attr):\n",
    "        self.parent_attr = parent_attr\n",
    "        self.child_attr = child_attr\n",
    "    def child_class_methods(self):\n",
    "        pass\n",
    "```"
   ]
  },
  {
   "cell_type": "code",
   "execution_count": null,
   "id": "0dabde5e-085d-4dde-b157-96db18c9a5a8",
   "metadata": {},
   "outputs": [],
   "source": [
    "class Soccer: # Parent class/ Super class\n",
    "    # Constructor\n",
    "    def __init__(self, name, age, position):\n",
    "        self.name = name\n",
    "        self.age = age\n",
    "        self.position = position\n",
    "    def details(self):\n",
    "        print(f'name of the player is {self.name}')\n",
    "        print(f'Age of the player is {self.age}')\n",
    "        print(f'The position of the player is {self.position}')\n",
    "\n"
   ]
  },
  {
   "cell_type": "code",
   "execution_count": 13,
   "id": "572b40d2-ae26-4a5a-9e2d-15071e6d2f03",
   "metadata": {},
   "outputs": [
    {
     "name": "stdout",
     "output_type": "stream",
     "text": [
      "the player scored 10 goals in last tournament\n",
      "name of the player is CR7\n",
      "Age of the player is 39\n",
      "The position of the player is striker\n"
     ]
    }
   ],
   "source": [
    "\n",
    "class Player(Soccer):\n",
    "    def __init__(self, name, age, position, goals):\n",
    "        self.name = name\n",
    "        self.age = age\n",
    "        self.position = position\n",
    "        self.goals = goals\n",
    "    def records(self):\n",
    "        print(f'the player scored {self.goals} goals in last tournament')\n",
    "\n",
    "my_player = Player('CR7', '39', 'striker', '10')\n",
    "my_player.records()\n",
    "my_player.details()"
   ]
  },
  {
   "cell_type": "code",
   "execution_count": 14,
   "id": "c51fc59c-26d6-4be4-af6f-d209b82a290d",
   "metadata": {},
   "outputs": [
    {
     "name": "stdout",
     "output_type": "stream",
     "text": [
      "name of the player is CR7\n",
      "Age of the player is 39\n",
      "The position of the player is striker\n"
     ]
    }
   ],
   "source": [
    "# direct call\n",
    "class NewPlayer(Soccer):\n",
    "    def __init__(self, name, age, position, goals):\n",
    "        Soccer.__init__(self,name, age, position)\n",
    "        self.goals = goals\n",
    "    def records(self):\n",
    "        print(f'the player scored {self.goals} goals in last tournament')\n",
    "\n",
    "newplayer1 = NewPlayer('CR7', '39', 'striker', '10')\n",
    "newplayer1.details()"
   ]
  },
  {
   "cell_type": "code",
   "execution_count": 18,
   "id": "1c469b65-4379-45e0-96b4-0ae7f463db88",
   "metadata": {},
   "outputs": [
    {
     "name": "stdout",
     "output_type": "stream",
     "text": [
      "the player scored 10 goals in last tournament\n"
     ]
    }
   ],
   "source": [
    "# Automatic call\n",
    "class SuperPlayer(Soccer):\n",
    "    def __init__(self, name, age, position, goals):\n",
    "        super().__init__(name, age, position)\n",
    "        self.goals = goals\n",
    "    def records(self):\n",
    "        print(f'the player scored {self.goals} goals in last tournament')\n",
    "\n",
    "superplayer1 = SuperPlayer('CR7', '39', 'striker', '10')\n",
    "# superplayer1.details()\n",
    "superplayer1.records()"
   ]
  },
  {
   "cell_type": "code",
   "execution_count": null,
   "id": "5d4264d4-2b48-45b8-9501-b70e4866d07f",
   "metadata": {},
   "outputs": [],
   "source": []
  }
 ],
 "metadata": {
  "kernelspec": {
   "display_name": "Python 3 (ipykernel)",
   "language": "python",
   "name": "python3"
  },
  "language_info": {
   "codemirror_mode": {
    "name": "ipython",
    "version": 3
   },
   "file_extension": ".py",
   "mimetype": "text/x-python",
   "name": "python",
   "nbconvert_exporter": "python",
   "pygments_lexer": "ipython3",
   "version": "3.11.5"
  }
 },
 "nbformat": 4,
 "nbformat_minor": 5
}
