{
 "cells": [
  {
   "cell_type": "markdown",
   "id": "1225eba9-cd78-428c-91a0-f29859589e8a",
   "metadata": {},
   "source": [
    "\n",
    "\n",
    "---\n",
    "# Welcome to ML2LM\n",
    "## Data Structures\n",
    "\n",
    "Data structures are ways to organize and store data so that they can be accessed and worked with efficiently. Python offers several built-in data structures such as lists, tuples, sets and dictionaries. Each of these has unique properties and use cases. Let's cover them one by one.\n",
    "\n",
    "**List:**\n",
    "A list in Python is a data structure that allows you to store an ordered collection of items. These items can be of any data type (e.g., integers, strings, floats, or even other lists). <br>\n",
    "\n",
    "Key Features:<br>\n",
    "*Ordered*: Elements in a list maintain the order in which they are added.<br>\n",
    "*Mutable*: Lists can be modified after creation — elements can be added, removed or changed.<br>\n",
    "*Dynamic Size*: Python lists can grow or shrink dynamically without a fixed size limit.<br>\n",
    "*Heterogeneous*: A single list can store elements of different types.<br>\n"
   ]
  },
  {
   "cell_type": "code",
   "execution_count": 240,
   "id": "9724df68-0211-4e44-bbd2-a52d9f1c3e06",
   "metadata": {},
   "outputs": [
    {
     "name": "stdout",
     "output_type": "stream",
     "text": [
      "['india', 'nepal', 'italy', 'china', 'russia']\n"
     ]
    }
   ],
   "source": [
    "countries = ['india', 'nepal', 'italy', 'china', 'russia']\n",
    "print(countries)"
   ]
  },
  {
   "cell_type": "code",
   "execution_count": 241,
   "id": "905ef021-0115-4911-890c-9441607c5130",
   "metadata": {},
   "outputs": [
    {
     "name": "stdout",
     "output_type": "stream",
     "text": [
      "['new delhi', 'kathmandu', 'roma', 'beijing', 'moscow']\n"
     ]
    }
   ],
   "source": [
    "capitals = list(('new delhi', 'kathmandu', 'roma', 'beijing', 'moscow'))\n",
    "print(capitals)"
   ]
  },
  {
   "cell_type": "code",
   "execution_count": 242,
   "id": "096eb571-df81-4526-bce6-0085ae8fa022",
   "metadata": {},
   "outputs": [
    {
     "name": "stdout",
     "output_type": "stream",
     "text": [
      "['i', 'n', 'd', 'i', 'a']\n"
     ]
    }
   ],
   "source": [
    "characters = list('india')\n",
    "print(characters)"
   ]
  },
  {
   "cell_type": "code",
   "execution_count": 243,
   "id": "3dd3a503-28f3-4524-a074-b37cd2628bd7",
   "metadata": {},
   "outputs": [
    {
     "name": "stdout",
     "output_type": "stream",
     "text": [
      "india\n",
      "russia\n",
      "['nepal', 'italy']\n",
      "['india', 'nepal', 'italy']\n",
      "['nepal', 'italy', 'china', 'russia']\n"
     ]
    }
   ],
   "source": [
    "# Accessing the elements\n",
    "print(countries[0]) # by index\n",
    "print(countries[-1]) # by negative index\n",
    "print(countries[1:3]) # 1 is inclusive and 3 is exclusive\n",
    "print(countries[:3])\n",
    "print(countries[1:])"
   ]
  },
  {
   "cell_type": "code",
   "execution_count": 244,
   "id": "3e0d8986-8d85-4bc3-80c2-c251f396254b",
   "metadata": {},
   "outputs": [
    {
     "name": "stdout",
     "output_type": "stream",
     "text": [
      "india\n",
      "nepal\n",
      "italy\n",
      "china\n",
      "russia\n"
     ]
    }
   ],
   "source": [
    "# Using Loops to Access Elements (to be revisited after for loops)\n",
    "# for loop\n",
    "for country in countries:\n",
    "  print(country)\n"
   ]
  },
  {
   "cell_type": "code",
   "execution_count": 245,
   "id": "12a749f8-27bc-4d80-b04e-514f359bd248",
   "metadata": {},
   "outputs": [
    {
     "name": "stdout",
     "output_type": "stream",
     "text": [
      "['india', 'italy']\n"
     ]
    }
   ],
   "source": [
    "\n",
    "# list comprehension\n",
    "i_countries = [country for country in countries if country[0] == 'i'] # list of countries that begin with a\n",
    "print(i_countries)\n"
   ]
  },
  {
   "cell_type": "code",
   "execution_count": 246,
   "id": "ff295fb5-76df-4700-84b7-91ae34d2cae0",
   "metadata": {},
   "outputs": [
    {
     "name": "stdout",
     "output_type": "stream",
     "text": [
      "[('india', 'new delhi'), ('italy', 'roma')]\n"
     ]
    }
   ],
   "source": [
    "# zip\n",
    "i_countries = [(country, capital) for country, capital in zip(countries, capitals) if country[0] == 'i']\n",
    "print(i_countries)"
   ]
  },
  {
   "cell_type": "code",
   "execution_count": 247,
   "id": "32b93c89-9608-4988-8ed0-a5794dd3a9fe",
   "metadata": {},
   "outputs": [
    {
     "name": "stdout",
     "output_type": "stream",
     "text": [
      "[['india', 'nepal', 'italy', 'china', 'russia'], ['new delhi', 'kathmandu', 'roma', 'beijing', 'moscow']]\n",
      "roma\n"
     ]
    }
   ],
   "source": [
    "# nested list\n",
    "nested_list = [countries, capitals]\n",
    "print(nested_list)\n",
    "print(nested_list[1][2])"
   ]
  },
  {
   "cell_type": "code",
   "execution_count": 248,
   "id": "8e2112eb-55a3-42e6-8de6-9beaa43105ac",
   "metadata": {},
   "outputs": [
    {
     "name": "stdout",
     "output_type": "stream",
     "text": [
      "['india', 'nepal', 'italy', 'china', 'russia', 'usa']\n"
     ]
    }
   ],
   "source": [
    "# append\n",
    "countries.append('usa')\n",
    "print(countries)"
   ]
  },
  {
   "cell_type": "code",
   "execution_count": 249,
   "id": "5eae690b-20d4-474f-bd51-018672c7f346",
   "metadata": {},
   "outputs": [
    {
     "name": "stdout",
     "output_type": "stream",
     "text": [
      "['india', 'nepal', 'italy', 'china', 'russia', 'usa', ['france', 'germany']]\n"
     ]
    }
   ],
   "source": [
    "# appending a list\n",
    "countries.append(['france', 'germany'])\n",
    "print(countries)"
   ]
  },
  {
   "cell_type": "code",
   "execution_count": 250,
   "id": "753cf9e2-b844-4ef9-a94c-7a05d2a9f849",
   "metadata": {},
   "outputs": [
    {
     "name": "stdout",
     "output_type": "stream",
     "text": [
      "['india', 'nepal', 'italy', 'china', 'russia', 'usa', ['france', 'germany'], 'brazil', 'australia']\n"
     ]
    }
   ],
   "source": [
    "# extend\n",
    "countries.extend(['brazil', 'australia'])\n",
    "print(countries)"
   ]
  },
  {
   "cell_type": "code",
   "execution_count": 251,
   "id": "bb1bca71-91b6-4533-8710-dc0b7d3e563f",
   "metadata": {},
   "outputs": [
    {
     "name": "stdout",
     "output_type": "stream",
     "text": [
      "['india', 'nepal', 'italy', 'china', 'russia', 'usa', 'brazil', 'australia']\n",
      "['india', 'nepal', 'italy', 'china', 'russia', 'brazil', 'australia']\n"
     ]
    }
   ],
   "source": [
    "# remove\n",
    "countries.remove(['france', 'germany'])\n",
    "print(countries)\n",
    "countries.remove('usa')\n",
    "print(countries)"
   ]
  },
  {
   "cell_type": "code",
   "execution_count": 252,
   "id": "51105ec3-ec98-4c67-a42a-775ae6ce8be1",
   "metadata": {},
   "outputs": [
    {
     "name": "stdout",
     "output_type": "stream",
     "text": [
      "nepal\n",
      "['india', 'italy', 'china', 'russia', 'brazil', 'australia']\n"
     ]
    }
   ],
   "source": [
    "popped_item = countries.pop(1)  # Remove and return item at index 1\n",
    "print(popped_item)\n",
    "print(countries)"
   ]
  },
  {
   "cell_type": "markdown",
   "id": "125841aa-f509-47ac-b935-6fdb51df5d3e",
   "metadata": {},
   "source": [
    "| Method   | Parameter | Removes | Returns | Error If Not Found? |\n",
    "|----------|-----------|---------|---------|----------------------|\n",
    "| `remove()` | Element value | First occurrence of the element | No | Yes (`ValueError`) |\n",
    "| `pop()` | Index (optional) | Element at the given index (or last by default) | Yes | Yes (`IndexError`) |\n"
   ]
  },
  {
   "cell_type": "code",
   "execution_count": 253,
   "id": "3e146c3a-f434-45c2-8374-dae272700fd2",
   "metadata": {},
   "outputs": [
    {
     "name": "stdout",
     "output_type": "stream",
     "text": [
      "2\n"
     ]
    },
    {
     "ename": "ValueError",
     "evalue": "'malaysia' is not in list",
     "output_type": "error",
     "traceback": [
      "\u001b[0;31m---------------------------------------------------------------------------\u001b[0m",
      "\u001b[0;31mValueError\u001b[0m                                Traceback (most recent call last)",
      "Cell \u001b[0;32mIn[253], line 2\u001b[0m\n\u001b[1;32m      1\u001b[0m \u001b[38;5;28mprint\u001b[39m(countries\u001b[38;5;241m.\u001b[39mindex(\u001b[38;5;124m'\u001b[39m\u001b[38;5;124mchina\u001b[39m\u001b[38;5;124m'\u001b[39m))\n\u001b[0;32m----> 2\u001b[0m \u001b[38;5;28mprint\u001b[39m(countries\u001b[38;5;241m.\u001b[39mindex(\u001b[38;5;124m'\u001b[39m\u001b[38;5;124mmalaysia\u001b[39m\u001b[38;5;124m'\u001b[39m))\n",
      "\u001b[0;31mValueError\u001b[0m: 'malaysia' is not in list"
     ]
    }
   ],
   "source": [
    "print(countries.index('china'))\n",
    "print(countries.index('malaysia'))"
   ]
  },
  {
   "cell_type": "code",
   "execution_count": 254,
   "id": "f181f4ae-c8ea-4f6a-9f5f-88c159a5585f",
   "metadata": {},
   "outputs": [
    {
     "name": "stdout",
     "output_type": "stream",
     "text": [
      "malaysia is not in the list\n"
     ]
    }
   ],
   "source": [
    "try:\n",
    "  print(countries.index('malaysia'))\n",
    "except ValueError:\n",
    "  print('malaysia is not in the list')"
   ]
  },
  {
   "cell_type": "code",
   "execution_count": 255,
   "id": "b9d39cd0-30db-42b1-b0b2-8c626718fb13",
   "metadata": {},
   "outputs": [
    {
     "name": "stdout",
     "output_type": "stream",
     "text": [
      "['india', 'italy', 'china', 'russia', 'brazil', 'australia', 'italy']\n",
      "2\n"
     ]
    }
   ],
   "source": [
    "countries.append('italy')\n",
    "print(countries)\n",
    "print(countries.count('italy'))"
   ]
  },
  {
   "cell_type": "code",
   "execution_count": 256,
   "id": "bdba1087-8e66-4bdb-b9ba-c25b57fe993b",
   "metadata": {},
   "outputs": [
    {
     "name": "stdout",
     "output_type": "stream",
     "text": [
      "['australia', 'brazil', 'china', 'india', 'italy', 'italy', 'russia']\n"
     ]
    }
   ],
   "source": [
    "countries.sort()\n",
    "print(countries)"
   ]
  },
  {
   "cell_type": "code",
   "execution_count": 257,
   "id": "284d31e7-07ab-4235-8681-b2494a17f241",
   "metadata": {},
   "outputs": [
    {
     "name": "stdout",
     "output_type": "stream",
     "text": [
      "['australia', 'brazil', 'china', 'india', 'italy', 'italy', 'russia']\n",
      "['russia', 'italy', 'italy', 'india', 'china', 'brazil', 'australia']\n"
     ]
    }
   ],
   "source": [
    "print(countries)\n",
    "countries.reverse() # directly modifies the existing list\n",
    "print(countries)"
   ]
  },
  {
   "cell_type": "code",
   "execution_count": 258,
   "id": "a370eebb-b546-401b-8aeb-b89f3a9e6307",
   "metadata": {},
   "outputs": [
    {
     "name": "stdout",
     "output_type": "stream",
     "text": [
      "['australia', 'brazil', 'china', 'india', 'italy', 'italy', 'russia']\n"
     ]
    }
   ],
   "source": [
    "print(countries[::-1]) # doesn't directly modify the existing list"
   ]
  },
  {
   "cell_type": "markdown",
   "id": "d3463d89-6bf1-4f74-9b2b-a34b0ac482d4",
   "metadata": {},
   "source": [
    "**Note:** reverse() modifies the original list. *list_name[::-1]* creates a new list."
   ]
  },
  {
   "cell_type": "code",
   "execution_count": 259,
   "id": "ac6c49c0-7e52-4942-bc81-284ff8faf06f",
   "metadata": {},
   "outputs": [
    {
     "name": "stdout",
     "output_type": "stream",
     "text": [
      "['russia', 'italy', 'italy', 'india', 'china', 'brazil', 'australia', 'malaysia']\n",
      "['russia', 'italy', 'italy', 'india', 'china', 'brazil', 'australia', 'malaysia']\n"
     ]
    }
   ],
   "source": [
    "# Copying a list\n",
    "countries_copy = countries # countries_copy is a reference to countries\n",
    "countries_copy.append('malaysia')\n",
    "print(countries) # updating countries_copy also makes changes to countries\n",
    "print(countries_copy)"
   ]
  },
  {
   "cell_type": "code",
   "execution_count": 260,
   "id": "6abb7272-ed86-4615-9d98-c24ac5ab5353",
   "metadata": {},
   "outputs": [
    {
     "name": "stdout",
     "output_type": "stream",
     "text": [
      "['russia', 'italy', 'italy', 'india', 'china', 'brazil', 'australia', 'malaysia']\n",
      "['russia', 'italy', 'italy', 'india', 'china', 'brazil', 'australia', 'malaysia', 'greece']\n"
     ]
    }
   ],
   "source": [
    "countries_copy = countries.copy()\n",
    "countries_copy.append('greece')\n",
    "print(countries)\n",
    "print(countries_copy)"
   ]
  },
  {
   "cell_type": "code",
   "execution_count": 261,
   "id": "5209913c-f29b-4b43-ad60-28b7347d9340",
   "metadata": {},
   "outputs": [
    {
     "name": "stdout",
     "output_type": "stream",
     "text": [
      "[]\n"
     ]
    }
   ],
   "source": [
    "# Clearing a list\n",
    "countries.clear()\n",
    "print(countries)"
   ]
  },
  {
   "cell_type": "code",
   "execution_count": null,
   "id": "8230f544-fd75-45ff-bf84-8b2bbf489ca3",
   "metadata": {},
   "outputs": [],
   "source": []
  },
  {
   "cell_type": "markdown",
   "id": "67d8fef4-92a4-411c-9c24-5753db612439",
   "metadata": {},
   "source": [
    " **Tuples:**\n",
    "A tuple is a collection of ordered, immutable items. Similar to lists, tuples can store elements of any data type, including integers, strings, floats, and other tuples. However, unlike lists, tuples cannot be modified after they are created. <br>\n",
    "\n",
    "Key Features:<br>\n",
    "*Ordered*<br>\n",
    "*Immutable*: Once a tuple is created, its elements cannot be changed. This makes tuples useful in situations where you want to ensure that the data remains constant.<br>\n",
    "*Heterogeneous*<br>\n",
    "*Hashable*: Since tuples are immutable, they can be used as keys in dictionaries, unlike lists.\n"
   ]
  },
  {
   "cell_type": "code",
   "execution_count": 262,
   "id": "b708e894-83e1-40c5-a3c4-75cc2c70c0b9",
   "metadata": {},
   "outputs": [
    {
     "name": "stdout",
     "output_type": "stream",
     "text": [
      "('india', 'nepal', 'italy') ('new delhi', 'kathmandu', 'rome')\n"
     ]
    }
   ],
   "source": [
    "# Creating tuples\n",
    "countries = ('india', 'nepal', 'italy')\n",
    "capitals = 'new delhi', 'kathmandu', 'rome'\n",
    "print(countries, capitals)"
   ]
  },
  {
   "cell_type": "code",
   "execution_count": 263,
   "id": "602fe146-6577-46dc-b6f6-e4daf3839f7a",
   "metadata": {},
   "outputs": [
    {
     "name": "stdout",
     "output_type": "stream",
     "text": [
      "('india', 'nepal', 'italy', 'new delhi', 'kathmandu', 'rome')\n",
      "('india', 'nepal', 'italy', 'india', 'nepal', 'italy', 'india', 'nepal', 'italy')\n",
      "india\n"
     ]
    }
   ],
   "source": [
    "# Concatenation\n",
    "concat_tuple = countries + capitals\n",
    "print(concat_tuple)\n",
    "\n",
    "# Repetition\n",
    "repeat_tuple = countries * 3\n",
    "print(repeat_tuple)\n",
    "\n",
    "# Tuple Unpacking\n",
    "c1, c2, c3 = countries\n",
    "print(c1)"
   ]
  },
  {
   "cell_type": "markdown",
   "id": "3abaeac9-f09f-4c78-a170-899c32978701",
   "metadata": {},
   "source": [
    "Notes:<br>\n",
    "1.   Tuples are ideal when you have data that should not change throughout the program, such as coordinates, fixed configurations, or records.\n",
    "2.   Functions in Python can return multiple values as tuples. This allows you to return several related pieces of data from a function.<!--  -->\n",
    "E.g. `return (latitude, longitude)`\n",
    "\n"
   ]
  },
  {
   "cell_type": "markdown",
   "id": "ab806456-952c-4be3-85bf-bda9657c4dce",
   "metadata": {},
   "source": [
    "\n",
    "**Sets:**\n",
    "A set is an unordered collection of unique elements. Unlike lists or tuples, sets do not store duplicate values, and their order is not guaranteed. Sets are commonly used when you need to store distinct values and don't care about their order.<br>\n",
    "\n",
    "Key Features:<br>\n",
    "*Unordered*: Sets do not maintain the order of elements.<br>\n",
    "*Unique Elements*: A set can only contain one instance of each element.<br>\n",
    "*Mutable*: Sets are mutable, meaning you can add or remove elements after the set is created.<br>\n",
    "*No Indexing*: Since sets are unordered, they do not support indexing, slicing or other sequence-like behavior.<br>"
   ]
  },
  {
   "cell_type": "code",
   "execution_count": 266,
   "id": "1a067679-4dae-413b-b7e2-e08f2d1f332c",
   "metadata": {},
   "outputs": [
    {
     "name": "stdout",
     "output_type": "stream",
     "text": [
      "{'india', 'nepal', 'italy'}\n"
     ]
    }
   ],
   "source": [
    "# Creating Sets\n",
    "countries = {'india', 'nepal', 'italy', 'india'}\n",
    "print(countries)"
   ]
  },
  {
   "cell_type": "code",
   "execution_count": 267,
   "id": "59fc429d-b66c-41e6-975b-568dcdee6a5b",
   "metadata": {},
   "outputs": [
    {
     "name": "stdout",
     "output_type": "stream",
     "text": [
      "{'india', 'nepal', 'italy'}\n"
     ]
    }
   ],
   "source": [
    "# Using set() Constructor from a list\n",
    "countries_list = ['india', 'nepal', 'italy', 'india']\n",
    "countries = set(countries_list)\n",
    "print(countries)"
   ]
  },
  {
   "cell_type": "code",
   "execution_count": 268,
   "id": "abdcd653-baac-4df6-9f5b-19b6f721e293",
   "metadata": {},
   "outputs": [
    {
     "name": "stdout",
     "output_type": "stream",
     "text": [
      "True\n"
     ]
    }
   ],
   "source": [
    "# Checking Membership\n",
    "print('india' in countries)"
   ]
  },
  {
   "cell_type": "code",
   "execution_count": 273,
   "id": "b63a484a-69ef-4b1c-b8a7-d75ba4d30f60",
   "metadata": {},
   "outputs": [
    {
     "name": "stdout",
     "output_type": "stream",
     "text": [
      "{'india', 'china', 'nepal', 'italy'}\n"
     ]
    }
   ],
   "source": [
    "# Adding elements\n",
    "countries.add('china')\n",
    "print(countries)"
   ]
  },
  {
   "cell_type": "code",
   "execution_count": 274,
   "id": "57edcb56-3786-494f-bf4f-991cfb31975d",
   "metadata": {},
   "outputs": [
    {
     "name": "stdout",
     "output_type": "stream",
     "text": [
      "{'india', 'nepal', 'italy'}\n"
     ]
    }
   ],
   "source": [
    "# Removing Elements\n",
    "countries.remove('china')\n",
    "print(countries)"
   ]
  },
  {
   "cell_type": "code",
   "execution_count": 272,
   "id": "1debed48-f040-4130-bf29-31ee1133127c",
   "metadata": {},
   "outputs": [
    {
     "name": "stdout",
     "output_type": "stream",
     "text": [
      "{'india', 'nepal', 'italy'}\n"
     ]
    }
   ],
   "source": [
    "countries.discard('china')\n",
    "print(countries) # doesn't raise a KeyError"
   ]
  },
  {
   "cell_type": "code",
   "execution_count": 275,
   "id": "61d981a3-1101-4666-aa1d-cdec3a49a91a",
   "metadata": {},
   "outputs": [
    {
     "name": "stdout",
     "output_type": "stream",
     "text": [
      "3\n"
     ]
    }
   ],
   "source": [
    "# Length\n",
    "print(len(countries))"
   ]
  },
  {
   "cell_type": "code",
   "execution_count": 293,
   "id": "7c585e90-38e7-435e-a803-673e11a3a5c2",
   "metadata": {},
   "outputs": [
    {
     "name": "stdout",
     "output_type": "stream",
     "text": [
      "Union: {1, 2, 3, 4}\n",
      "Intersection: {2}\n",
      "Difference: {1}\n",
      "Symmetric Difference: {1, 3, 4}\n"
     ]
    }
   ],
   "source": [
    "set1 = {1,2}\n",
    "set2 = {2,3,4}\n",
    "\n",
    "# Union\n",
    "print(\"Union:\", set1|set2) # same as set1.union(set2)\n",
    "\n",
    "# Intersection\n",
    "print(\"Intersection:\", set1&set2) # same as set1.intersection(set2)\n",
    "\n",
    "# Difference\n",
    "print(\"Difference:\", set1-set2) # same as set1.difference(set2)\n",
    "\n",
    "# Symmetric Difference\n",
    "print(\"Symmetric Difference:\", set1^set2) # same as set1.symmetric_difference(set2)\n"
   ]
  },
  {
   "cell_type": "code",
   "execution_count": 294,
   "id": "05306a23-b795-4a45-8c46-d1c372c46895",
   "metadata": {},
   "outputs": [
    {
     "name": "stdout",
     "output_type": "stream",
     "text": [
      "Subset: True\n",
      "Superset: True\n",
      "Disjoint: True\n"
     ]
    }
   ],
   "source": [
    "set3 = {1,2,3,4}\n",
    "set4 = {3,4}\n",
    "\n",
    "# Subset and Superset\n",
    "print(\"Subset:\", set1.issubset(set3))\n",
    "print(\"Superset:\", set3.issuperset(set1))\n",
    "\n",
    "# Disjoint set\n",
    "print(\"Disjoint:\", set1.isdisjoint(set4))"
   ]
  },
  {
   "cell_type": "code",
   "execution_count": 295,
   "id": "d9d9d7ff-4922-424a-aea8-ba30ebc9df75",
   "metadata": {},
   "outputs": [
    {
     "name": "stdout",
     "output_type": "stream",
     "text": [
      "{1, 2, 3, 4, 5, 6}\n"
     ]
    }
   ],
   "source": [
    "# Update\n",
    "set1 = {1, 2, 3, 4}\n",
    "set2 = {3, 4, 5, 6}\n",
    "\n",
    "set1.update(set2)\n",
    "print(set1)"
   ]
  },
  {
   "cell_type": "code",
   "execution_count": 279,
   "id": "bb640b9b-f80c-4a6c-859f-2864da48a37a",
   "metadata": {},
   "outputs": [
    {
     "name": "stdout",
     "output_type": "stream",
     "text": [
      "{3, 4}\n"
     ]
    }
   ],
   "source": [
    "# Intersection Update\n",
    "set1 = {1, 2, 3, 4}\n",
    "set2 = {3, 4, 5, 6}\n",
    "\n",
    "set1.intersection_update(set2)\n",
    "print(set1)"
   ]
  },
  {
   "cell_type": "code",
   "execution_count": 280,
   "id": "f6f83a8b-2c57-41e0-a858-9bdff23094c8",
   "metadata": {},
   "outputs": [
    {
     "name": "stdout",
     "output_type": "stream",
     "text": [
      "{1, 2}\n"
     ]
    }
   ],
   "source": [
    "# Difference Update\n",
    "set1 = {1, 2, 3, 4}\n",
    "set2 = {3, 4, 5, 6}\n",
    "\n",
    "set1.difference_update(set2)\n",
    "print(set1)"
   ]
  },
  {
   "cell_type": "code",
   "execution_count": 281,
   "id": "6ccd579b-98b1-4ad6-bb0c-a63913e7c950",
   "metadata": {},
   "outputs": [
    {
     "name": "stdout",
     "output_type": "stream",
     "text": [
      "{1, 2, 5, 6}\n"
     ]
    }
   ],
   "source": [
    "# Symmetric Difference Update\n",
    "set1 = {1, 2, 3, 4}\n",
    "set2 = {3, 4, 5, 6}\n",
    "\n",
    "set1.symmetric_difference_update(set2)\n",
    "print(set1)"
   ]
  },
  {
   "cell_type": "markdown",
   "id": "cf510191-66f9-464b-920f-df99673b6e8d",
   "metadata": {},
   "source": [
    "Notes<br>\n",
    "1.   Sets are commonly used to remove duplicates from a list or other iterable.\n",
    "2.   Sets allow for fast membership tests, making them ideal for situations where you need to quickly check if an element exists in a collection."
   ]
  },
  {
   "cell_type": "markdown",
   "id": "a041feed-9a92-4313-b58a-767884e211b8",
   "metadata": {},
   "source": [
    "\n",
    "**Dictionary:**\n",
    "\n",
    "A dictionary is a collection of unordered, changeable and indexed elements. It is similar to a real-world dictionary, where a word (key) is associated with a definition (value). In Python, dictionaries are defined using curly braces `{}` and consist of key-value pairs separated by a colon `:`.\n"
   ]
  },
  {
   "cell_type": "code",
   "execution_count": 284,
   "id": "b6dd01a5-ee6c-47cd-af30-1835aa057808",
   "metadata": {},
   "outputs": [
    {
     "name": "stdout",
     "output_type": "stream",
     "text": [
      "{'name': 'S Bose', 'age': 30, 'city': 'Kolkata'}\n",
      "Kolkata\n",
      "Kolkata\n",
      "{'name': 'S Bose', 'age': 30, 'city': 'Kolkata', 'gender': 'male'}\n",
      "{'name': 'S Bose', 'age': 31, 'city': 'Kolkata', 'gender': 'male'}\n",
      "{'name': 'S Bose', 'city': 'Kolkata', 'gender': 'male'}\n",
      "{'name': 'S Bose', 'city': 'Kolkata'}\n"
     ]
    }
   ],
   "source": [
    "# Creating dictionaries\n",
    "person = {\n",
    "    'name': 'S Bose',\n",
    "    'age': 30,\n",
    "    'city': 'Kolkata'\n",
    "}\n",
    "\n",
    "print(person)\n",
    "\n",
    "# Accessing elements by key\n",
    "print(person['city'])\n",
    "print(person.get('city'))\n",
    "\n",
    "# Adding and Updating Key-Value Pairs\n",
    "person['gender'] = 'male'\n",
    "print(person)\n",
    "\n",
    "person['age'] = 31\n",
    "print(person)\n",
    "\n",
    "# Removing Key-Value Pairs\n",
    "del person['age']\n",
    "print(person)\n",
    "\n",
    "person.pop('gender')\n",
    "print(person)"
   ]
  },
  {
   "cell_type": "code",
   "execution_count": 285,
   "id": "5f3a5f25-1b3d-4efb-a0e6-9c72be5df5a8",
   "metadata": {},
   "outputs": [
    {
     "name": "stdout",
     "output_type": "stream",
     "text": [
      "{'S Bose': {'phone': '123-456-7890', 'email': 'sbose@example.com'}, 'N Islam': {'phone': '987-654-3210', 'email': 'nisl@example.com'}, 'RM Roy': {'phone': '555-555-5555', 'email': 'rmroy@example.com'}}\n"
     ]
    }
   ],
   "source": [
    "contacts = {\n",
    "    'S Bose': {'phone': '123-456-7890', 'email': 'sbose@example.com'},\n",
    "    'N Islam': {'phone': '987-654-3210', 'email': 'nisl@example.com'},\n",
    "    'RM Roy': {'phone': '555-555-5555', 'email': 'rmroy@example.com'}\n",
    "}\n",
    "\n",
    "print(contacts)\n"
   ]
  },
  {
   "cell_type": "code",
   "execution_count": 286,
   "id": "8f5e9891-0c3e-41d9-8449-edf395195380",
   "metadata": {},
   "outputs": [
    {
     "name": "stdout",
     "output_type": "stream",
     "text": [
      "S Bose\n",
      "N Islam\n",
      "RM Roy\n",
      "dict_keys(['S Bose', 'N Islam', 'RM Roy'])\n"
     ]
    }
   ],
   "source": [
    "\n",
    "# Iterating Through Keys, Values, and Items\n",
    "# To be revisited after for loops\n",
    "# Keys\n",
    "for key in contacts:\n",
    "    print(key)\n",
    "\n",
    "print(contacts.keys())\n"
   ]
  },
  {
   "cell_type": "code",
   "execution_count": 287,
   "id": "626ee3f6-f912-42a5-90d3-2eedf0d6a7a3",
   "metadata": {},
   "outputs": [
    {
     "name": "stdout",
     "output_type": "stream",
     "text": [
      "{'phone': '123-456-7890', 'email': 'sbose@example.com'}\n",
      "{'phone': '987-654-3210', 'email': 'nisl@example.com'}\n",
      "{'phone': '555-555-5555', 'email': 'rmroy@example.com'}\n"
     ]
    }
   ],
   "source": [
    "\n",
    "# Values\n",
    "for value in contacts.values():\n",
    "    print(value)\n"
   ]
  },
  {
   "cell_type": "code",
   "execution_count": 288,
   "id": "e2299e14-a602-4540-9836-d32bdbe05cec",
   "metadata": {},
   "outputs": [
    {
     "name": "stdout",
     "output_type": "stream",
     "text": [
      "Name: S Bose, Phone: 123-456-7890, Email: sbose@example.com\n",
      "Name: N Islam, Phone: 987-654-3210, Email: nisl@example.com\n",
      "Name: RM Roy, Phone: 555-555-5555, Email: rmroy@example.com\n"
     ]
    }
   ],
   "source": [
    "\n",
    "# Key-Value Pairs\n",
    "for key, value in contacts.items():\n",
    "    print(f'Name: {key}, Phone: {value[\"phone\"]}, Email: {value[\"email\"]}')\n"
   ]
  },
  {
   "cell_type": "code",
   "execution_count": 289,
   "id": "3520f230-9aa7-44ad-8d86-eee868104380",
   "metadata": {},
   "outputs": [
    {
     "name": "stdout",
     "output_type": "stream",
     "text": [
      "{'S Bose': {'phone': '123-456-7890', 'email': 'sbose@example.com'}, 'N Islam': {'phone': '987-654-3210', 'email': 'nisl@example.com'}, 'RM Roy': {'phone': '555-555-3333', 'email': 'rmroy@example.com'}, 'IC Chatterjee': {'phone': '777-777-7777', 'email': 'icc@example.com'}}\n"
     ]
    }
   ],
   "source": [
    "# Updating items\n",
    "contacts.update({'RM Roy': {'phone': '555-555-3333', 'email': 'rmroy@example.com'},\n",
    "                 'IC Chatterjee': {'phone': '777-777-7777', 'email':'icc@example.com'}})\n",
    "print(contacts)\n"
   ]
  },
  {
   "cell_type": "code",
   "execution_count": 290,
   "id": "e051c6c5-d641-4db5-99ac-e20fe9d3f652",
   "metadata": {},
   "outputs": [
    {
     "name": "stdout",
     "output_type": "stream",
     "text": [
      "{'phone': '555-555-3333', 'email': 'rmroy@example.com'}\n",
      "{'S Bose': {'phone': '123-456-7890', 'email': 'sbose@example.com'}, 'N Islam': {'phone': '987-654-3210', 'email': 'nisl@example.com'}, 'IC Chatterjee': {'phone': '777-777-7777', 'email': 'icc@example.com'}}\n"
     ]
    }
   ],
   "source": [
    "# Removing keys\n",
    "contact = contacts.pop('RM Roy')\n",
    "print(contact)\n",
    "print(contacts)"
   ]
  },
  {
   "cell_type": "code",
   "execution_count": null,
   "id": "feee9136-5348-4a4b-857d-0edcfb91d688",
   "metadata": {},
   "outputs": [],
   "source": [
    "contact = contacts.popitem() # pops last item\n",
    "print(contact)\n",
    "print(contacts)"
   ]
  },
  {
   "cell_type": "code",
   "execution_count": 291,
   "id": "454a999a-fe3e-42e2-9503-50afa1b0de94",
   "metadata": {},
   "outputs": [
    {
     "name": "stdout",
     "output_type": "stream",
     "text": [
      "{1: 1, 2: 4, 3: 9, 4: 16, 5: 25}\n"
     ]
    }
   ],
   "source": [
    "# Dictionary Comprehension\n",
    "squares = {x: x**2 for x in range(1, 6)}\n",
    "print(squares)"
   ]
  },
  {
   "cell_type": "markdown",
   "id": "44b50443-8292-4596-a3a3-d26977f5cb14",
   "metadata": {},
   "source": [
    "Notes<br>\n",
    "1. Dictionaries are ideal for situations where you need to map one value to another.\n",
    "2. Dictionaries are often used for counting the occurrences of items, such as in word frequency analysis or tallying votes. Example below."
   ]
  },
  {
   "cell_type": "code",
   "execution_count": 292,
   "id": "d364834e-1c4d-40eb-ae8e-ad20ccde0f4b",
   "metadata": {},
   "outputs": [
    {
     "name": "stdout",
     "output_type": "stream",
     "text": [
      "{'the': 2, 'new': 1, 'news': 3, 'anchor': 1, 'delivered': 1, 'breaking': 1, 'with': 1, 'confidence': 1}\n"
     ]
    }
   ],
   "source": [
    "text = \"the new news news anchor delivered the breaking news with confidence\"\n",
    "\n",
    "word_count = {}\n",
    "for word in text.split():\n",
    "    word_count[word] = word_count.get(word, 0) + 1\n",
    "print(word_count)"
   ]
  },
  {
   "cell_type": "code",
   "execution_count": null,
   "id": "cc53a529-9b67-429e-8a3e-36af5ecfa255",
   "metadata": {},
   "outputs": [],
   "source": []
  }
 ],
 "metadata": {
  "kernelspec": {
   "display_name": "Python 3 (ipykernel)",
   "language": "python",
   "name": "python3"
  },
  "language_info": {
   "codemirror_mode": {
    "name": "ipython",
    "version": 3
   },
   "file_extension": ".py",
   "mimetype": "text/x-python",
   "name": "python",
   "nbconvert_exporter": "python",
   "pygments_lexer": "ipython3",
   "version": "3.11.5"
  }
 },
 "nbformat": 4,
 "nbformat_minor": 5
}
